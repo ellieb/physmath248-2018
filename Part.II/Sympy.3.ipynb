{
 "cells": [
  {
   "cell_type": "markdown",
   "metadata": {},
   "source": [
    "# Sympy - a deeper look\n",
    "\n",
    "We will have a second, longer look at Sympy and its capabilities.\n",
    "\n",
    "First, a little example with round-off errors using floating point numbers."
   ]
  },
  {
   "cell_type": "markdown",
   "metadata": {},
   "source": [
    "### Some experiments with Python number types. \n",
    "\n",
    "Let's start with a basic *expansive* process.   Given a number $x$ we will *double* it, \n",
    "\n",
    "$$x \\longmapsto 2x$$\n",
    "\n",
    "and then to keep things at a fixed scale, we will subtract whichever integer $k$ it takes so that\n",
    "\n",
    "$$0 \\leq 2x - k < 1.$$  \n",
    "\n",
    "i.e. we consider iterating the function\n",
    "\n",
    "$$ f(x) = 2x - \\lfloor 2x \\rfloor $$\n",
    "\n",
    "$\\lfloor x \\rfloor$ is the largest integer less than or equal to $x$, i.e. $f(x)$ is the process\n",
    "of doubling $x$, then removing the integer part.  $0 \\leq f(x) < 1$ always. \n",
    "\n",
    "In Python:"
   ]
  },
  {
   "cell_type": "code",
   "execution_count": null,
   "metadata": {},
   "outputs": [],
   "source": [
    "def f(x):\n",
    "\n",
    "    "
   ]
  },
  {
   "cell_type": "code",
   "execution_count": null,
   "metadata": {},
   "outputs": [],
   "source": []
  },
  {
   "cell_type": "markdown",
   "metadata": {},
   "source": [
    "## Features of Sympy\n",
    "\n",
    "The primary feature of the **Sympy** library is that it does not try to reduce expressions to floats.  It keeps the mathematics as formal/algebraic as you like, and has a reasonable amount of knowledge of how algebraic expressions can be manipulated.\n",
    "\n",
    "The [features](http://www.sympy.org/en/features.html) of Sympy are vast and the scope of the library is changing rather quickly. It aims to be able to accomplish all forms of symbolic computation that *can* in principle be done by a computer. \n",
    "\n",
    "The qualifier in the above sentence is rather important. There are many basic algebraic tasks that are *non-computable*, in the sense that we have proofs that it is *impossible* to write a computer program that computes the answer to certain algebraic problems.  A closely related fact is that many differential equations do not have closed-form solutions, i.e. their solutions are not expressible in terms of [*elementary functions*](https://en.wikipedia.org/wiki/Elementary_function). \n",
    "\n",
    "These issues lead to certain unavoidable problems in symbolic computation.  For some tasks, Sympy has effective algorithms that give useful answers in a reliable manner.  But for other kinds of requestions, rather than give up, Sympy will *try* to answer your query, but there are *no* estimates for how long it might take, *nor* how much system memory it will require to complete the task you have asked of it.  In effect sympy may or may not give you an answer to these kinds of requests.  There is a further clas of problems where it is known no *elementary* solution exists -- so if you ask for such a solution Sympy will do nothing at all.\n",
    " \n",
    "\n",
    "* * *\n",
    "\n",
    "## Algebraic expressions"
   ]
  },
  {
   "cell_type": "code",
   "execution_count": null,
   "metadata": {},
   "outputs": [],
   "source": [
    "import sympy as sp\n",
    "\n",
    "st = sp.sqrt(2) ## the square root of 2.\n",
    "\n"
   ]
  },
  {
   "cell_type": "code",
   "execution_count": null,
   "metadata": {},
   "outputs": [],
   "source": []
  }
 ],
 "metadata": {
  "kernelspec": {
   "display_name": "Python 3",
   "language": "python",
   "name": "python3"
  },
  "language_info": {
   "codemirror_mode": {
    "name": "ipython",
    "version": 3
   },
   "file_extension": ".py",
   "mimetype": "text/x-python",
   "name": "python",
   "nbconvert_exporter": "python",
   "pygments_lexer": "ipython3",
   "version": "3.5.2"
  }
 },
 "nbformat": 4,
 "nbformat_minor": 2
}
