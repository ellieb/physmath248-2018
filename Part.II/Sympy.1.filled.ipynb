{
 "cells": [
  {
   "cell_type": "markdown",
   "metadata": {},
   "source": [
    "# Sympy - A first glance\n",
    "\n",
    "Sympy is a Python library that primarily deals with **symbolic mathematics**.  By this we mean formal algebraic expressions, such as:\n",
    "\n",
    " * Polynomials $x^3+3x-2$\n",
    " * Abstract functional expressions $\\sin(x), e^x, \\frac{\\sin x}{\\tan^2 x + 3x^2 + 1}$, etc.\n",
    " * Operations on these expressions, such as: \n",
    "   - Root finding, in **closed form** when it is possible.\n",
    "   - Differentiation, integration.\n",
    "   - Solving systems of non-linear equations in \"closed form\" i.e. going from expressions like $x^2=2$ to $x = \\pm \\sqrt{2}$. \n",
    "   - Finding **closed form** solutions to differential equations, when they exist, such as going from $y'=y$ to $y(t) = ke^t$. \n",
    "   \n",
    "Sympy is capable of much more than the above, but these are some of its most basic features."
   ]
  },
  {
   "cell_type": "markdown",
   "metadata": {},
   "source": [
    "## Before we begin -- numbers and data types in Python\n",
    "\n",
    "Simple things like numbers have multiple representations in Python.  \n",
    "\n",
    "For example, in your second quiz you wrote an algorithm that divides an integer by 2.  Let's look at various ways Python can deal with this."
   ]
  },
  {
   "cell_type": "code",
   "execution_count": 2,
   "metadata": {
    "collapsed": false
   },
   "outputs": [
    {
     "name": "stdout",
     "output_type": "stream",
     "text": [
      "1.5\n",
      "<class 'float'>\n"
     ]
    }
   ],
   "source": [
    "print(3/2)\n",
    "print(type(3/2))"
   ]
  },
  {
   "cell_type": "markdown",
   "metadata": {},
   "source": [
    "### 3/2 in Python\n",
    "\n",
    "In Python, the **division** operation is implemented in a way that closely mimics how we use it in practice.  But there are also compromises to ensure it isn't an *expensive* computation to do in large quantities.\n",
    "\n",
    "Given two integers $m$ and $n$, Python implements $m/n$ as a **float**. **float** (short for floating-point) data types are an imprecise data type and this can lead to problems.  We will talk more about this later.   \n",
    "\n",
    "What if you want **integer division**?  By this I am referring to the <a href=\"https://en.wikipedia.org/wiki/Division_algorithm\">**division algorithm**</a>. This states that given any integer $n$, and any positive integer $d$ (the **denominator**), there are unique integers $q$ (the **quotient**) and $r$ the **remainder** so that\n",
    "\n",
    "$$ n = q\\cdot d + r \\ \\ \\ 0 \\leq r < d. $$\n",
    "\n",
    "Another way to say this is\n",
    "\n",
    "$$ \\frac{n}{d} = q + \\frac{r}{d}$$\n",
    "\n",
    "i.e. the division algorithm is a procedure to write an arbitrary fraction as a **reduced fraction**, where this means $0 \\leq \\frac{r}{d} < 1$.\n",
    "\n",
    "For example $n=3, d = 2$\n",
    "\n",
    "$$ 3 = 1 \\cdot 2 + 1 $$\n",
    "\n",
    "For $n=13, d = 3$\n",
    "\n",
    "$$ 13 = 4 \\cdot 3 + 1 $$\n",
    "\n",
    "The Python operations for the division algorithm are $//$ and $\\%$.\n"
   ]
  },
  {
   "cell_type": "code",
   "execution_count": 3,
   "metadata": {
    "collapsed": false
   },
   "outputs": [
    {
     "name": "stdout",
     "output_type": "stream",
     "text": [
      "n=3, d=2  q= 1  r= 1\n"
     ]
    }
   ],
   "source": [
    "print(\"n=3, d=2  q=\",3//2, \" r=\",3%2)"
   ]
  },
  {
   "cell_type": "code",
   "execution_count": 8,
   "metadata": {
    "collapsed": false
   },
   "outputs": [
    {
     "name": "stdout",
     "output_type": "stream",
     "text": [
      "n = -2 d = 2  q = -1  r = 0   True\n",
      "n = -1 d = 2  q = -1  r = 1   True\n",
      "n = 0 d = 2  q = 0  r = 0   True\n",
      "n = 1 d = 2  q = 0  r = 1   True\n",
      "n = 2 d = 2  q = 1  r = 0   True\n",
      "n = 3 d = 2  q = 1  r = 1   True\n",
      "n = 4 d = 2  q = 2  r = 0   True\n",
      "n = 5 d = 2  q = 2  r = 1   True\n",
      "n = 6 d = 2  q = 3  r = 0   True\n"
     ]
    }
   ],
   "source": [
    "for n in range(-2, 7):\n",
    "    print(\"n =\",n, \"d = 2  q =\",n//2, \" r =\",n%2, \" \", n==(n//2)*2+(n%2))"
   ]
  },
  {
   "cell_type": "markdown",
   "metadata": {},
   "source": [
    "### isinstance and type\n",
    "\n",
    "Often times the simplest way to figure out how Python interprets your expression is via the **type** and **isinstance** commands. \n",
    "\n",
    "The **type** gives you the name of the underlying Python data type of an object."
   ]
  },
  {
   "cell_type": "code",
   "execution_count": 14,
   "metadata": {
    "collapsed": false
   },
   "outputs": [
    {
     "name": "stdout",
     "output_type": "stream",
     "text": [
      "<class 'int'>\n",
      "<class 'float'>\n",
      "<class 'float'>\n",
      "<class 'int'>\n"
     ]
    }
   ],
   "source": [
    "print(type(1))\n",
    "print(type(1.0))\n",
    "print(type(1/2))\n",
    "print(type(1//2))"
   ]
  },
  {
   "cell_type": "markdown",
   "metadata": {},
   "source": [
    "**isinstance** allows you to check if an object is of a specific type. This is a useful command to protect a function against mis-use."
   ]
  },
  {
   "cell_type": "code",
   "execution_count": 15,
   "metadata": {
    "collapsed": false
   },
   "outputs": [
    {
     "name": "stdout",
     "output_type": "stream",
     "text": [
      "True\n",
      "False\n"
     ]
    }
   ],
   "source": [
    "print(isinstance(1, int))\n",
    "print(isinstance(1.0, int))"
   ]
  },
  {
   "cell_type": "markdown",
   "metadata": {},
   "source": [
    "## Changing gears -- basic Sympy examples"
   ]
  },
  {
   "cell_type": "code",
   "execution_count": 9,
   "metadata": {
    "collapsed": false
   },
   "outputs": [
    {
     "name": "stdout",
     "output_type": "stream",
     "text": [
      "x\n",
      "x**2\n",
      " 2\n",
      "x \n"
     ]
    }
   ],
   "source": [
    "import sympy as sp\n",
    "x = sp.Symbol('x')\n",
    "\n",
    "print(x)\n",
    "print(x**2)\n",
    "sp.pprint(x**2)"
   ]
  },
  {
   "cell_type": "code",
   "execution_count": 20,
   "metadata": {
    "collapsed": false
   },
   "outputs": [
    {
     "name": "stdout",
     "output_type": "stream",
     "text": [
      " 3         \n",
      "x  + sin(x)\n"
     ]
    },
    {
     "ename": "TypeError",
     "evalue": "'Add' object is not callable",
     "output_type": "error",
     "traceback": [
      "\u001b[0;31m---------------------------------------------------------------------------\u001b[0m",
      "\u001b[0;31mTypeError\u001b[0m                                 Traceback (most recent call last)",
      "\u001b[0;32m<ipython-input-20-ffa788ef7ccb>\u001b[0m in \u001b[0;36m<module>\u001b[0;34m()\u001b[0m\n\u001b[1;32m      3\u001b[0m \u001b[0mf\u001b[0m \u001b[0;34m=\u001b[0m \u001b[0mx\u001b[0m\u001b[0;34m**\u001b[0m\u001b[0;36m3\u001b[0m \u001b[0;34m+\u001b[0m \u001b[0msp\u001b[0m\u001b[0;34m.\u001b[0m\u001b[0msin\u001b[0m\u001b[0;34m(\u001b[0m\u001b[0mx\u001b[0m\u001b[0;34m)\u001b[0m\u001b[0;34m\u001b[0m\u001b[0m\n\u001b[1;32m      4\u001b[0m \u001b[0msp\u001b[0m\u001b[0;34m.\u001b[0m\u001b[0mpprint\u001b[0m\u001b[0;34m(\u001b[0m\u001b[0mf\u001b[0m\u001b[0;34m)\u001b[0m\u001b[0;34m\u001b[0m\u001b[0m\n\u001b[0;32m----> 5\u001b[0;31m \u001b[0mprint\u001b[0m\u001b[0;34m(\u001b[0m\u001b[0mf\u001b[0m\u001b[0;34m(\u001b[0m\u001b[0;36m1\u001b[0m\u001b[0;34m)\u001b[0m\u001b[0;34m)\u001b[0m\u001b[0;34m\u001b[0m\u001b[0m\n\u001b[0m\u001b[1;32m      6\u001b[0m \u001b[0;34m\u001b[0m\u001b[0m\n",
      "\u001b[0;31mTypeError\u001b[0m: 'Add' object is not callable"
     ]
    }
   ],
   "source": [
    "## Sympy expressions are not functions\n",
    "\n",
    "f = x**3 + sp.sin(x)\n",
    "sp.pprint(f)\n",
    "print(f(1))\n",
    "\n"
   ]
  },
  {
   "cell_type": "markdown",
   "metadata": {},
   "source": [
    "## Sympy types\n",
    "\n",
    "Sympy types at first appear a little confusing.  We will discuss how to interpret them next week.  Even *the same* mathematical object can have different sympy types!"
   ]
  },
  {
   "cell_type": "code",
   "execution_count": 67,
   "metadata": {
    "collapsed": false
   },
   "outputs": [
    {
     "name": "stdout",
     "output_type": "stream",
     "text": [
      "<class 'sympy.core.symbol.Symbol'>\n",
      "<class 'sympy.core.mul.Mul'>\n",
      "<class 'sympy.core.add.Add'> <class 'sympy.core.power.Pow'>\n"
     ]
    }
   ],
   "source": [
    "print(type(x))\n",
    "print(type(sp.sin(x)*x))\n",
    "print(type(x**2 + 2*x + 1),  type((x+1)**2))"
   ]
  },
  {
   "cell_type": "markdown",
   "metadata": {},
   "source": [
    "Similarly, Sympy's notion of equality is perhaps not what one might expect.  We will also discuss this in more detail next week."
   ]
  },
  {
   "cell_type": "code",
   "execution_count": 24,
   "metadata": {
    "collapsed": false
   },
   "outputs": [
    {
     "name": "stdout",
     "output_type": "stream",
     "text": [
      "False\n",
      "True\n"
     ]
    }
   ],
   "source": [
    "print(x**2 + 2*x + 1 == (x+1)**2)\n",
    "print(x**2 + 2*x + 1 == 1 + 2*x + x**2)"
   ]
  },
  {
   "cell_type": "code",
   "execution_count": 27,
   "metadata": {
    "collapsed": false
   },
   "outputs": [
    {
     "name": "stdout",
     "output_type": "stream",
     "text": [
      "True\n",
      "√2\n",
      "──\n",
      "2 \n",
      "√2\n",
      "──\n",
      "2 \n",
      "False\n",
      "  1   \n",
      "──────\n",
      "1 + √2\n",
      "-1 + √2\n"
     ]
    }
   ],
   "source": [
    "print(sp.sqrt(2)/2 == 1/sp.sqrt(2))\n",
    "sp.pprint(sp.sqrt(2)/2)\n",
    "sp.pprint(1/sp.sqrt(2))\n",
    "print(1/(1+sp.sqrt(2)) == (sp.sqrt(2)-1))\n",
    "sp.pprint(1/(1+sp.sqrt(2)))\n",
    "sp.pprint(sp.sqrt(2)-1)"
   ]
  },
  {
   "cell_type": "markdown",
   "metadata": {},
   "source": [
    "Sympy algebraic expressions like $\\sin(x)+x^2$ are not callable functions, so one might imagine **what is the point of using Sympy** if you can't use algebraic expressions for their purpose?\n",
    "\n",
    "Sympy allows us to convert their Sympy algebraic expressions into callable functions, with the lambdify command."
   ]
  },
  {
   "cell_type": "code",
   "execution_count": 17,
   "metadata": {
    "collapsed": false
   },
   "outputs": [],
   "source": [
    "f = sp.sin(x**2)+x\n",
    "\n",
    "F = sp.lambdify(x, f)"
   ]
  },
  {
   "cell_type": "code",
   "execution_count": 18,
   "metadata": {
    "collapsed": false
   },
   "outputs": [
    {
     "data": {
      "text/plain": [
       "1.8414709848078965"
      ]
     },
     "execution_count": 18,
     "metadata": {},
     "output_type": "execute_result"
    }
   ],
   "source": [
    "F(1)"
   ]
  },
  {
   "cell_type": "markdown",
   "metadata": {},
   "source": [
    "### Advantage of Sympy algebraic expressions\n",
    "\n",
    "Sympy allows for many basic operations on algebraic expressions, like differentiation and integration."
   ]
  },
  {
   "cell_type": "code",
   "execution_count": 19,
   "metadata": {
    "collapsed": false
   },
   "outputs": [
    {
     "name": "stdout",
     "output_type": "stream",
     "text": [
      "       ⎛ 2⎞    \n",
      "2⋅x⋅cos⎝x ⎠ + 1\n"
     ]
    }
   ],
   "source": [
    "## differentiation\n",
    "\n",
    "fp = sp.diff(f, x)\n",
    "sp.pprint(fp)"
   ]
  },
  {
   "cell_type": "code",
   "execution_count": 20,
   "metadata": {
    "collapsed": false
   },
   "outputs": [
    {
     "name": "stdout",
     "output_type": "stream",
     "text": [
      " 3         \n",
      "x  + cos(x)\n",
      " 4         \n",
      "x          \n",
      "── + sin(x)\n",
      "4          \n"
     ]
    }
   ],
   "source": [
    "## integration\n",
    "\n",
    "f = x**3 + sp.cos(x)\n",
    "sp.pprint(f)\n",
    "\n",
    "F = sp.integrate(f, x)\n",
    "sp.pprint(F)"
   ]
  },
  {
   "cell_type": "markdown",
   "metadata": {},
   "source": [
    "What would Sympy do if we ask it to integrate $f = \\sin(x^2) $?"
   ]
  },
  {
   "cell_type": "code",
   "execution_count": 21,
   "metadata": {
    "collapsed": false
   },
   "outputs": [
    {
     "name": "stdout",
     "output_type": "stream",
     "text": [
      "   ⎛ 2⎞\n",
      "sin⎝x ⎠\n",
      "                ⎛√2⋅x⎞       \n",
      "3⋅√2⋅√π⋅fresnels⎜────⎟⋅Γ(3/4)\n",
      "                ⎝ √π ⎠       \n",
      "─────────────────────────────\n",
      "           8⋅Γ(7/4)          \n"
     ]
    }
   ],
   "source": [
    "f = sp.sin(x**2)\n",
    "F = sp.integrate(f,x)\n",
    "sp.pprint(f)\n",
    "sp.pprint(F)"
   ]
  },
  {
   "cell_type": "markdown",
   "metadata": {},
   "source": [
    "Let's find out what \"fresnels\" is."
   ]
  },
  {
   "cell_type": "code",
   "execution_count": null,
   "metadata": {
    "collapsed": true
   },
   "outputs": [],
   "source": [
    "sp.fresnels?"
   ]
  },
  {
   "cell_type": "markdown",
   "metadata": {},
   "source": [
    "Similarly, what is that symbol in the denominator?"
   ]
  },
  {
   "cell_type": "code",
   "execution_count": 48,
   "metadata": {
    "collapsed": false
   },
   "outputs": [
    {
     "name": "stdout",
     "output_type": "stream",
     "text": [
      "3*sqrt(2)*sqrt(pi)*fresnels(sqrt(2)*x/sqrt(pi))*gamma(3/4)/(8*gamma(7/4))\n"
     ]
    }
   ],
   "source": [
    "print(F)\n",
    "sp.gamma?"
   ]
  },
  {
   "cell_type": "markdown",
   "metadata": {},
   "source": [
    "And how about we plot it. For that we will need a callable function."
   ]
  },
  {
   "cell_type": "code",
   "execution_count": 35,
   "metadata": {
    "collapsed": false
   },
   "outputs": [],
   "source": [
    "F = sp.lambdify(x, sp.fresnels(x))"
   ]
  },
  {
   "cell_type": "code",
   "execution_count": 37,
   "metadata": {
    "collapsed": false
   },
   "outputs": [
    {
     "data": {
      "text/plain": [
       "mpf('0.00052358954761221065')"
      ]
     },
     "execution_count": 37,
     "metadata": {},
     "output_type": "execute_result"
    }
   ],
   "source": [
    "F(0.1)"
   ]
  },
  {
   "cell_type": "markdown",
   "metadata": {},
   "source": [
    "**mpf** is a special kind of floating point number from the **mpmath** library.  When you ask Sympy to create a callable function, it will search through a few different mathematics libraries for numerical implementations of various functions.  \"Special functions\" like the Fresnel functions are implemented in mpmath. \n",
    "\n",
    "We will talk more about mpmath on another day. The key feature of this library is it implements *arbitrary precision floating point numbers*. "
   ]
  },
  {
   "cell_type": "code",
   "execution_count": 42,
   "metadata": {
    "collapsed": false
   },
   "outputs": [
    {
     "data": {
      "image/png": "[encoded data removed]",
      "text/plain": [
       "<matplotlib.figure.Figure at 0x7fbb12403400>"
      ]
     },
     "metadata": {},
     "output_type": "display_data"
    }
   ],
   "source": [
    "import matplotlib.pyplot as plt\n",
    "import numpy as np\n",
    "%matplotlib inline\n",
    "\n",
    "dom = np.linspace(-8.0, 8.0, 1000)\n",
    "plt.plot(dom, [F(x) for x in dom], color=\"black\")\n",
    "plt.show()"
   ]
  },
  {
   "cell_type": "markdown",
   "metadata": {},
   "source": [
    "Keep in mind, sometimes Sympy will not know how to compute a closed form for an anti-derivative. "
   ]
  },
  {
   "cell_type": "code",
   "execution_count": 44,
   "metadata": {
    "collapsed": false
   },
   "outputs": [
    {
     "name": "stdout",
     "output_type": "stream",
     "text": [
      " ⎛   2⎞\n",
      " ⎜ -x ⎟\n",
      " ⎝ℯ   ⎠\n",
      "ℯ      \n",
      "⌠           \n",
      "⎮  ⎛   2⎞   \n",
      "⎮  ⎜ -x ⎟   \n",
      "⎮  ⎝ℯ   ⎠   \n",
      "⎮ ℯ       dx\n",
      "⌡           \n"
     ]
    }
   ],
   "source": [
    "sp.pprint( sp.exp(sp.exp(-x**2)))\n",
    "sp.pprint( sp.integrate(sp.exp(sp.exp(-x**2)),x) )"
   ]
  },
  {
   "cell_type": "markdown",
   "metadata": {},
   "source": [
    "There are two reasons for this:\n",
    "\n",
    "1) Anti-derivatives of \"classical\" functions do not always have expressions as \"classical\" functions, or combinations of them.   This is knowledge created in the mathematical subject called **differential algebra** pioneered by <a href=\"https://en.wikipedia.org/wiki/Liouville%27s_theorem_(differential_algebra)\">Liouville</a>.  Roughly speaking it gives a framework to decide whether or not a function's anti-derivative can be expressed as a combination of *elementary* functions.   Liouville's original theorem has a fairly restricted context and is not properly speaking an algorithm.  Sympy has implemented an extension of the <a href=\"https://en.wikipedia.org/wiki/Risch_algorithm\">Risch algorithm</a> which can be thought of as a more complete and useful version of Liouville's theorem.  This is essentially how all computer algebra packages look for anti-derivatives, in closed form. \n",
    "\n",
    "The **Risch algorithm** tells us that functions like $\\sin(x^2)$ does **not** have an anti-derivative expressible in closed form. Sympy uses various conventions from mathematics to assign classical names to \"well-known\" anti-derivatives, such as $\\int \\sin(x^2) dx$ and the *Fresnel function*, $\\int e^{-x^2} dx$ and the *Error function*, etc. \n",
    "\n",
    "2) The Risch algorithm can be fairly computationally intensive and often the memory requirements and run-times are beyond their computational platform's abilities, or the user's patience.\n"
   ]
  },
  {
   "cell_type": "code",
   "execution_count": 45,
   "metadata": {
    "collapsed": false
   },
   "outputs": [
    {
     "name": "stdout",
     "output_type": "stream",
     "text": [
      "   ⎛ 2⎞\n",
      "sin⎝x ⎠\n",
      "                ⎛√2⋅x⎞       \n",
      "3⋅√2⋅√π⋅fresnels⎜────⎟⋅Γ(3/4)\n",
      "                ⎝ √π ⎠       \n",
      "─────────────────────────────\n",
      "           8⋅Γ(7/4)          \n"
     ]
    }
   ],
   "source": [
    "## Recall\n",
    "\n",
    "f = sp.sin(x**2)\n",
    "F = sp.integrate(f,x)\n",
    "sp.pprint(f)\n",
    "sp.pprint(F)"
   ]
  },
  {
   "cell_type": "code",
   "execution_count": 46,
   "metadata": {
    "collapsed": false
   },
   "outputs": [
    {
     "name": "stdout",
     "output_type": "stream",
     "text": [
      "3*sqrt(2)*sqrt(pi)*fresnels(sqrt(2)*x/sqrt(pi))*gamma(3/4)/(8*gamma(7/4))\n"
     ]
    }
   ],
   "source": [
    "print(F)"
   ]
  },
  {
   "cell_type": "markdown",
   "metadata": {},
   "source": [
    "## Asking sympy to solve equations\n",
    "\n",
    "Sympy has some fairly sophisticated algorithms to solve polynomial equations. It uses these algorithms to build tools to solve (symbolically) a wide array of equations, even ones that are not polynomial. \n",
    "\n",
    "Sympy can:\n",
    "\n",
    " * Factor polynomials.\n",
    " * Find roots of polynomials, symbolically as well as numerically. \n",
    " * Solve (symbolically as well as numerically) simultaneous polynomial equations.\n",
    " * Solve simultaneous equations that are not polynomial\n",
    "    "
   ]
  },
  {
   "cell_type": "code",
   "execution_count": 49,
   "metadata": {
    "collapsed": false
   },
   "outputs": [
    {
     "name": "stdout",
     "output_type": "stream",
     "text": [
      "[-√2, √2]\n",
      "[-√2⋅ⅈ, √2⋅ⅈ]\n"
     ]
    }
   ],
   "source": [
    "p = x*x - 2\n",
    "sp.pprint(sp.solve(p,x))\n",
    "\n",
    "p = x*x + 2\n",
    "sp.pprint(sp.solve(p,x))"
   ]
  },
  {
   "cell_type": "markdown",
   "metadata": {},
   "source": [
    "In general the *sp.solve(f,x)* command solves the expression $f=0$ for the variable $x$."
   ]
  },
  {
   "cell_type": "code",
   "execution_count": 54,
   "metadata": {
    "collapsed": false
   },
   "outputs": [
    {
     "name": "stdout",
     "output_type": "stream",
     "text": [
      "Let's solve for the roots of \n",
      " \n",
      "\n",
      "   2          \n",
      "a⋅x  + b⋅x + c\n",
      "\n",
      " \n",
      "\n",
      "⎡        _____________   ⎛       _____________⎞ ⎤\n",
      "⎢       ╱           2    ⎜      ╱           2 ⎟ ⎥\n",
      "⎢-b + ╲╱  -4⋅a⋅c + b    -⎝b + ╲╱  -4⋅a⋅c + b  ⎠ ⎥\n",
      "⎢─────────────────────, ────────────────────────⎥\n",
      "⎣         2⋅a                     2⋅a           ⎦\n"
     ]
    }
   ],
   "source": [
    "a,b,c = sp.symbols('a b c')\n",
    "p = a*x**2 + b*x + c\n",
    "print(\"Let's solve for the roots of \\n \\n\")\n",
    "sp.pprint(p)\n",
    "print(\"\\n \\n\")\n",
    "sp.pprint(sp.solve(p,x))"
   ]
  },
  {
   "cell_type": "markdown",
   "metadata": {},
   "source": [
    "Let's similarly find the roots of degree 3, 4 and 5 polynomials. \n",
    "\n",
    "Alternatively, we could leave the symbolic world and find roots numerically."
   ]
  },
  {
   "cell_type": "code",
   "execution_count": 56,
   "metadata": {
    "collapsed": false
   },
   "outputs": [
    {
     "name": "stdout",
     "output_type": "stream",
     "text": [
      " 3    2        \n",
      "x  + x  - x - 1\n",
      "Extracted coefficients:  [1, 1, -1, -1]\n"
     ]
    }
   ],
   "source": [
    "p = x**3 + x**2 -x - 1\n",
    "sp.pprint(p)\n",
    "P=sp.Poly(p,x).coeffs()\n",
    "print(\"Extracted coefficients: \", str(P))"
   ]
  },
  {
   "cell_type": "code",
   "execution_count": 57,
   "metadata": {
    "collapsed": false
   },
   "outputs": [
    {
     "name": "stdout",
     "output_type": "stream",
     "text": [
      "[ 1.         -1.00000001 -0.99999999]\n",
      "\n"
     ]
    }
   ],
   "source": [
    "print(str(np.roots(P))+\"\\n\")"
   ]
  },
  {
   "cell_type": "code",
   "execution_count": 61,
   "metadata": {
    "collapsed": false
   },
   "outputs": [
    {
     "name": "stdout",
     "output_type": "stream",
     "text": [
      "[1.0, (-1.0 - 1.25049450131375e-10j), (-1.0 + 1.2799322008877e-10j)]\n",
      "\n"
     ]
    }
   ],
   "source": [
    "import mpmath as mp\n",
    "\n",
    "mp.mp.pretty=True\n",
    "print(str(mp.polyroots(P))+\"\\n\")\n"
   ]
  },
  {
   "cell_type": "markdown",
   "metadata": {},
   "source": [
    "Let's try solving some systems of equations.\n"
   ]
  },
  {
   "cell_type": "code",
   "execution_count": 62,
   "metadata": {
    "collapsed": false
   },
   "outputs": [
    {
     "name": "stdout",
     "output_type": "stream",
     "text": [
      "<class 'list'>\n",
      "4\n"
     ]
    }
   ],
   "source": [
    "y = sp.Symbol(\"y\")\n",
    "sol = sp.solve([x**2 + y**2 - 4, x*y-1 ])\n",
    "print(type(sol))\n",
    "print(len(sol))"
   ]
  },
  {
   "cell_type": "code",
   "execution_count": 63,
   "metadata": {
    "collapsed": false
   },
   "outputs": [
    {
     "name": "stdout",
     "output_type": "stream",
     "text": [
      "Solution 0\n",
      "⎧   ⎛       _________⎞   _________ ⎛    _________    ⎞        _________⎫\n",
      "⎨x: ⎝-2 - ╲╱ -√3 + 2 ⎠⋅╲╱ -√3 + 2 ⋅⎝- ╲╱ -√3 + 2  + 2⎠, y: -╲╱ -√3 + 2 ⎬\n",
      "⎩                                                                      ⎭\n",
      "\n",
      "\n",
      "Solution 1\n",
      "⎧    ⎛       _________⎞   _________ ⎛  _________    ⎞       _________⎫\n",
      "⎨x: -⎝-2 + ╲╱ -√3 + 2 ⎠⋅╲╱ -√3 + 2 ⋅⎝╲╱ -√3 + 2  + 2⎠, y: ╲╱ -√3 + 2 ⎬\n",
      "⎩                                                                    ⎭\n",
      "\n",
      "\n",
      "Solution 2\n",
      "⎧   ⎛       ________⎞   ________ ⎛    ________    ⎞        ________⎫\n",
      "⎨x: ⎝-2 - ╲╱ √3 + 2 ⎠⋅╲╱ √3 + 2 ⋅⎝- ╲╱ √3 + 2  + 2⎠, y: -╲╱ √3 + 2 ⎬\n",
      "⎩                                                                  ⎭\n",
      "\n",
      "\n",
      "Solution 3\n",
      "⎧    ⎛       ________⎞   ________ ⎛  ________    ⎞       ________⎫\n",
      "⎨x: -⎝-2 + ╲╱ √3 + 2 ⎠⋅╲╱ √3 + 2 ⋅⎝╲╱ √3 + 2  + 2⎠, y: ╲╱ √3 + 2 ⎬\n",
      "⎩                                                                ⎭\n",
      "\n",
      "\n",
      "Solutions are dictionary type: <class 'dict'>\n"
     ]
    }
   ],
   "source": [
    "for i in range(len(sol)): \n",
    "    print(\"Solution \" + str(i))\n",
    "    sp.pprint(sol[i])\n",
    "    print(\"\\n\")\n",
    "## sol[i] is a dict object\n",
    "print(\"Solutions are dictionary type: \"+str(type(sol[0])))"
   ]
  },
  {
   "cell_type": "code",
   "execution_count": 64,
   "metadata": {
    "collapsed": false
   },
   "outputs": [
    {
     "name": "stdout",
     "output_type": "stream",
     "text": [
      "x-coord of solution 0: -1.931851653\n",
      "y-coord of solution 0: -0.5176380902\n"
     ]
    }
   ],
   "source": [
    "## This is how we can access them. \n",
    "print(\"x-coord of solution 0: \"+str(sol[0][x].evalf(10)))\n",
    "print(\"y-coord of solution 0: \"+str(sol[0][y].evalf(10)))"
   ]
  },
  {
   "cell_type": "code",
   "execution_count": 66,
   "metadata": {
    "collapsed": false
   },
   "outputs": [
    {
     "data": {
      "image/png": "[encoded data removed]",
      "text/plain": [
       "<matplotlib.figure.Figure at 0x7fbb17289b00>"
      ]
     },
     "metadata": {},
     "output_type": "display_data"
    }
   ],
   "source": [
    "## And we can visualize the solutions with matplotlib\n",
    "fig, ax = plt.subplots(figsize=(10,10))\n",
    "circle = plt.Circle( (0,0), 2, color='r', fill=False)\n",
    "\n",
    "x1 = np.linspace(0.2, 4)\n",
    "y1 = x1**(-1)\n",
    "ax.plot(x1, y1,'-')\n",
    "\n",
    "x2 = np.linspace(-4,-0.2)\n",
    "y2 = x2**(-1)\n",
    "ax.plot(x2, y2,'-')\n",
    "\n",
    "ax.set_title('Visualizing the above solutions', fontsize=18)\n",
    "\n",
    "## the roots we found with sympy, yellow dots.\n",
    "ax.plot([sol[i][x].evalf(10) for i in range(len(sol))], [sol[i][y].evalf(10) for i in range(len(sol))],\\\n",
    "        'yo', markersize=10)\n",
    "\n",
    "fig.gca().add_artist(circle)\n",
    "ax.set_xlim(-3,3)\n",
    "ax.set_ylim(-3,3)\n",
    "plt.show()"
   ]
  },
  {
   "cell_type": "code",
   "execution_count": null,
   "metadata": {
    "collapsed": true
   },
   "outputs": [],
   "source": []
  },
  {
   "cell_type": "code",
   "execution_count": null,
   "metadata": {
    "collapsed": true
   },
   "outputs": [],
   "source": []
  },
  {
   "cell_type": "code",
   "execution_count": null,
   "metadata": {
    "collapsed": true
   },
   "outputs": [],
   "source": []
  },
  {
   "cell_type": "code",
   "execution_count": null,
   "metadata": {
    "collapsed": true
   },
   "outputs": [],
   "source": []
  }
 ],
 "metadata": {
  "anaconda-cloud": {},
  "kernelspec": {
   "display_name": "Python [conda root]",
   "language": "python",
   "name": "conda-root-py"
  },
  "language_info": {
   "codemirror_mode": {
    "name": "ipython",
    "version": 3
   },
   "file_extension": ".py",
   "mimetype": "text/x-python",
   "name": "python",
   "nbconvert_exporter": "python",
   "pygments_lexer": "ipython3",
   "version": "3.5.2"
  }
 },
 "nbformat": 4,
 "nbformat_minor": 1
}
