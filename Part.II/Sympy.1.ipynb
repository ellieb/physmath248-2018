{
 "cells": [
  {
   "cell_type": "markdown",
   "metadata": {},
   "source": [
    "# Sympy - A first glance\n",
    "\n",
    "Sympy is a Python library that primarily deals with **symbolic mathematics**.  By this we mean formal algebraic expressions, such as:\n",
    "\n",
    " * Polynomials $x^3+3x-2$\n",
    " * Abstract functional expressions $\\sin(x), e^x, \\frac{\\sin x}{\\tan^2 x + 3x^2 + 1}$, etc.\n",
    " * Operations on these expressions, such as: \n",
    "   - Root finding, in **closed form** when it is possible.\n",
    "   - Differentiation, integration.\n",
    "   - Solving systems of non-linear equations in \"closed form\" i.e. going from expressions like $x^2=2$ to $x = \\pm \\sqrt{2}$. \n",
    "   - Finding **closed form** solutions to differential equations, when they exist, such as going from $y'=y$ to $y(t) = ke^t$. \n",
    "   \n",
    "Sympy is capable of much more than the above, but these are some of its most basic features."
   ]
  },
  {
   "cell_type": "markdown",
   "metadata": {},
   "source": [
    "## Before we begin -- numbers and data types in Python\n",
    "\n",
    "Simple things like numbers have multiple representations in Python.  \n",
    "\n",
    "For example, in your second quiz you wrote an algorithm that divides an integer by 2.  Let's look at various ways Python can deal with this."
   ]
  },
  {
   "cell_type": "code",
   "execution_count": null,
   "metadata": {
    "collapsed": false
   },
   "outputs": [],
   "source": [
    "print(3/2)\n",
    "print(type(3/2))"
   ]
  },
  {
   "cell_type": "markdown",
   "metadata": {},
   "source": [
    "### 3/2 in Python\n",
    "\n",
    "In Python, the **division** operation is implemented in a way that closely mimics how we use it in practice.  But there are also compromises to ensure it isn't an *expensive* computation to do in large quantities.\n",
    "\n",
    "Given two integers $m$ and $n$, Python implements $m/n$ as a **float**. **float** (short for floating-point) data types are an imprecise data type and this can lead to problems.  We will talk more about this later.   \n",
    "\n",
    "What if you want **integer division**?  By this I am referring to the <a href=\"https://en.wikipedia.org/wiki/Division_algorithm\">**division algorithm**</a>. This states that given any integer $n$, and any positive integer $d$ (the **denominator**), there are unique integers $q$ (the **quotient**) and $r$ the **remainder** so that\n",
    "\n",
    "$$ n = q\\cdot d + r \\ \\ \\ 0 \\leq r < d. $$\n",
    "\n",
    "Another way to say this is\n",
    "\n",
    "$$ \\frac{n}{d} = q + \\frac{r}{d}$$\n",
    "\n",
    "i.e. the division algorithm is a procedure to write an arbitrary fraction as a **reduced fraction**, where this means $0 \\leq \\frac{r}{d} < 1$.\n",
    "\n",
    "For example $n=3, d = 2$\n",
    "\n",
    "$$ 3 = 1 \\cdot 2 + 1 $$\n",
    "\n",
    "For $n=13, d = 3$\n",
    "\n",
    "$$ 13 = 4 \\cdot 3 + 1 $$\n",
    "\n",
    "The Python operations for the division algorithm are $//$ and $\\%$.\n"
   ]
  },
  {
   "cell_type": "code",
   "execution_count": null,
   "metadata": {
    "collapsed": false
   },
   "outputs": [],
   "source": []
  },
  {
   "cell_type": "code",
   "execution_count": null,
   "metadata": {
    "collapsed": false
   },
   "outputs": [],
   "source": []
  },
  {
   "cell_type": "markdown",
   "metadata": {},
   "source": [
    "### isinstance and type\n",
    "\n",
    "Often times the simplest way to figure out how Python interprets your expression is via the **type** and **isinstance** commands. \n",
    "\n",
    "The **type** gives you the name of the underlying Python data type of an object."
   ]
  },
  {
   "cell_type": "code",
   "execution_count": null,
   "metadata": {
    "collapsed": false
   },
   "outputs": [],
   "source": []
  },
  {
   "cell_type": "markdown",
   "metadata": {},
   "source": [
    "**isinstance** allows you to check if an object is of a specific type. This is a useful command to protect a function against mis-use."
   ]
  },
  {
   "cell_type": "code",
   "execution_count": null,
   "metadata": {
    "collapsed": false
   },
   "outputs": [],
   "source": []
  },
  {
   "cell_type": "markdown",
   "metadata": {},
   "source": [
    "## Changing gears -- basic Sympy examples"
   ]
  },
  {
   "cell_type": "code",
   "execution_count": null,
   "metadata": {
    "collapsed": false
   },
   "outputs": [],
   "source": [
    "import sympy as sp\n",
    "x = sp.Symbol('x')\n",
    "\n",
    "print(x)\n",
    "print(x**2)\n",
    "sp.pprint(x**2)"
   ]
  },
  {
   "cell_type": "code",
   "execution_count": null,
   "metadata": {
    "collapsed": false
   },
   "outputs": [],
   "source": []
  },
  {
   "cell_type": "markdown",
   "metadata": {},
   "source": [
    "## Sympy types\n",
    "\n",
    "Sympy types at first appear a little confusing.  We will discuss how to interpret them next week.  Even *the same* mathematical object can have different sympy types!"
   ]
  },
  {
   "cell_type": "code",
   "execution_count": null,
   "metadata": {
    "collapsed": false
   },
   "outputs": [],
   "source": []
  },
  {
   "cell_type": "markdown",
   "metadata": {},
   "source": [
    "Similarly, Sympy's notion of equality is perhaps not what one might expect.  We will also discuss this in more detail next week."
   ]
  },
  {
   "cell_type": "code",
   "execution_count": null,
   "metadata": {
    "collapsed": false
   },
   "outputs": [],
   "source": []
  },
  {
   "cell_type": "code",
   "execution_count": null,
   "metadata": {
    "collapsed": false
   },
   "outputs": [],
   "source": []
  },
  {
   "cell_type": "markdown",
   "metadata": {},
   "source": [
    "Sympy algebraic expressions like $\\sin(x)+x^2$ are not callable functions, so one might imagine **what is the point of using Sympy** if you can't use algebraic expressions for their purpose?\n",
    "\n",
    "Sympy allows us to convert their Sympy algebraic expressions into callable functions, with the lambdify command."
   ]
  },
  {
   "cell_type": "code",
   "execution_count": null,
   "metadata": {
    "collapsed": false
   },
   "outputs": [],
   "source": []
  },
  {
   "cell_type": "code",
   "execution_count": null,
   "metadata": {
    "collapsed": false
   },
   "outputs": [],
   "source": []
  },
  {
   "cell_type": "markdown",
   "metadata": {},
   "source": [
    "### Advantage of Sympy algebraic expressions\n",
    "\n",
    "Sympy allows for many basic operations on algebraic expressions, like differentiation and integration."
   ]
  },
  {
   "cell_type": "code",
   "execution_count": null,
   "metadata": {
    "collapsed": false
   },
   "outputs": [],
   "source": []
  },
  {
   "cell_type": "code",
   "execution_count": null,
   "metadata": {
    "collapsed": false
   },
   "outputs": [],
   "source": []
  },
  {
   "cell_type": "code",
   "execution_count": null,
   "metadata": {
    "collapsed": false
   },
   "outputs": [],
   "source": []
  },
  {
   "cell_type": "code",
   "execution_count": null,
   "metadata": {
    "collapsed": false
   },
   "outputs": [],
   "source": []
  },
  {
   "cell_type": "code",
   "execution_count": null,
   "metadata": {
    "collapsed": false
   },
   "outputs": [],
   "source": []
  },
  {
   "cell_type": "markdown",
   "metadata": {},
   "source": [
    "## Asking sympy to solve equations\n",
    "\n",
    "Sympy has some fairly sophisticated algorithms to solve polynomial equations. It uses these algorithms to build tools to solve (symbolically) a wide array of equations, even ones that are not polynomial. \n",
    "\n",
    "Sympy can:\n",
    "\n",
    " * Factor polynomials.\n",
    " * Find roots of polynomials, symbolically as well as numerically. \n",
    " * Solve (symbolically as well as numerically) simultaneous polynomial equations.\n",
    " * Solve simultaneous equations that are not polynomial\n",
    "    "
   ]
  },
  {
   "cell_type": "code",
   "execution_count": null,
   "metadata": {
    "collapsed": false
   },
   "outputs": [],
   "source": []
  },
  {
   "cell_type": "code",
   "execution_count": null,
   "metadata": {
    "collapsed": false
   },
   "outputs": [],
   "source": []
  },
  {
   "cell_type": "code",
   "execution_count": null,
   "metadata": {
    "collapsed": false
   },
   "outputs": [],
   "source": []
  },
  {
   "cell_type": "code",
   "execution_count": null,
   "metadata": {
    "collapsed": false
   },
   "outputs": [],
   "source": []
  },
  {
   "cell_type": "code",
   "execution_count": null,
   "metadata": {
    "collapsed": false
   },
   "outputs": [],
   "source": []
  },
  {
   "cell_type": "code",
   "execution_count": null,
   "metadata": {
    "collapsed": false
   },
   "outputs": [],
   "source": []
  },
  {
   "cell_type": "code",
   "execution_count": null,
   "metadata": {
    "collapsed": false
   },
   "outputs": [],
   "source": []
  },
  {
   "cell_type": "code",
   "execution_count": null,
   "metadata": {
    "collapsed": false
   },
   "outputs": [],
   "source": []
  },
  {
   "cell_type": "code",
   "execution_count": null,
   "metadata": {
    "collapsed": false
   },
   "outputs": [],
   "source": []
  },
  {
   "cell_type": "code",
   "execution_count": null,
   "metadata": {
    "collapsed": true
   },
   "outputs": [],
   "source": []
  },
  {
   "cell_type": "code",
   "execution_count": null,
   "metadata": {
    "collapsed": true
   },
   "outputs": [],
   "source": []
  }
 ],
 "metadata": {
  "anaconda-cloud": {},
  "kernelspec": {
   "display_name": "Python [conda root]",
   "language": "python",
   "name": "conda-root-py"
  },
  "language_info": {
   "codemirror_mode": {
    "name": "ipython",
    "version": 3
   },
   "file_extension": ".py",
   "mimetype": "text/x-python",
   "name": "python",
   "nbconvert_exporter": "python",
   "pygments_lexer": "ipython3",
   "version": "3.5.2"
  }
 },
 "nbformat": 4,
 "nbformat_minor": 1
}
