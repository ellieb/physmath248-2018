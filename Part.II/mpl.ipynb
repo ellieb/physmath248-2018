{
 "cells": [
  {
   "cell_type": "markdown",
   "metadata": {},
   "source": [
    "# matplotlib -- overview\n",
    "\n"
   ]
  },
  {
   "cell_type": "markdown",
   "metadata": {},
   "source": []
  },
  {
   "cell_type": "markdown",
   "metadata": {},
   "source": [
    "## Plotting in two dimensions with matplotlib.\n",
    "\n",
    "A useful resource for the basics of matplotlib is the [matplotlib FAQ \"General Concepts\" section](https://matplotlib.org/faq/usage_faq.html).  It outlines the primary structures and terminology used by matplotlib.   A more encyclopedic (but very good) introduction is [available here](http://www.labri.fr/perso/nrougier/teaching/matplotlib/).  We give a quick summary of matplotlib below. \n",
    "\n",
    "The **matplotlib.pyplot** module is the core library for producing 2-dimensional plots in matplotlib.  A display produced by matplotlib is called a **figure**, and figures have potentially many parts, called **axes**. \n",
    "\n",
    "<img src=\"./fig_map.png\" alt=\"matplotlib generic schema\" width=300 height=300 alt=\"taken from http://matplotlib.org/devdocs/faq/usage_faq.html#general-concepts\">\n",
    "\n",
    "The **axes** belong to the figure.  matplotlib has a high-level graphics-display object called an **artist** and all objects (figures, axes, axis, text, etc) are artist objects. \n",
    "\n",
    "matplotlib expects all array-objects to be **numpy** arrays.  Other array types can work in matplotlib but be aware these can create problems. \n",
    "\n",
    "matplotlib documentation distinguishes between the **backend** and the **frontend**. \n",
    "    \n",
    " - The **frontend** refers to the way in which you generate code for matplotlib.  For us, this is the i-python notebook.  \n",
    " - The **backend** refers to how one turns the code into graphics, or potentially an interactive environment. \n",
    "    \n",
    "There are two primary backend types for matplotlib:\n",
    "\n",
    " - Hardcopy backends.  These generate static image files from your code. The code **%matplotlib inline** loads a standard static backend for matplotlib.\n",
    " - Interactive backends.  These generate code (some generate and execute the code) for interactive graphics.  For example, some backends generate java code that can be integrated with a web-page to render your application on-line. The code **%matplotlib nbagg** loads a standard interactive back-end for matplotlib.\n",
    " - A [list](http://matplotlib.org/faq/usage_faq.html#what-is-a-backend) of preloaded matplotlib backends is here. \n",
    "        \n",
    "For most tasks we will use the default backends (inline and nbagg) for matplotlib.  This requires no special actions. We will also explore applications that use other backends. "
   ]
  },
  {
   "cell_type": "markdown",
   "metadata": {},
   "source": [
    "### Get some data\n",
    "\n",
    "First, let's re-load the weather data from last week."
   ]
  },
  {
   "cell_type": "code",
   "execution_count": null,
   "metadata": {},
   "outputs": [],
   "source": []
  }
 ],
 "metadata": {
  "anaconda-cloud": {},
  "kernelspec": {
   "display_name": "Python 3",
   "language": "python",
   "name": "python3"
  },
  "language_info": {
   "codemirror_mode": {
    "name": "ipython",
    "version": 3
   },
   "file_extension": ".py",
   "mimetype": "text/x-python",
   "name": "python",
   "nbconvert_exporter": "python",
   "pygments_lexer": "ipython3",
   "version": "3.5.2"
  }
 },
 "nbformat": 4,
 "nbformat_minor": 2
}
