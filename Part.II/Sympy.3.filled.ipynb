{
 "cells": [
  {
   "cell_type": "markdown",
   "metadata": {},
   "source": [
    "# Sympy - a deeper look\n",
    "\n",
    "We will have a second, longer look at Sympy and its capabilities.\n",
    "\n",
    "First, a little example with round-off errors using floating point numbers."
   ]
  },
  {
   "cell_type": "markdown",
   "metadata": {},
   "source": [
    "### Some experiments with Python number types. \n",
    "\n",
    "Let's start with a basic *expansive* process.   Given a number $x$ we will *double* it, \n",
    "\n",
    "$$x \\longmapsto 2x$$\n",
    "\n",
    "and then to keep things at a fixed scale, we will subtract whichever integer $k$ it takes so that\n",
    "\n",
    "$$0 \\leq 2x - k < 1.$$  \n",
    "\n",
    "i.e. we consider iterating the function\n",
    "\n",
    "$$ f(x) = 2x - \\lfloor 2x \\rfloor $$\n",
    "\n",
    "$\\lfloor x \\rfloor$ is the largest integer less than or equal to $x$, i.e. $f(x)$ is the process\n",
    "of doubling $x$, then removing the integer part.  $0 \\leq f(x) < 1$ always. \n",
    "\n",
    "In Python:"
   ]
  },
  {
   "cell_type": "code",
   "execution_count": 3,
   "metadata": {},
   "outputs": [
    {
     "name": "stdout",
     "output_type": "stream",
     "text": [
      "3.141592653589793\n",
      "0.28318530717958623\n",
      "0.5663706143591725\n",
      "0.13274122871834493\n",
      "0.26548245743668986\n",
      "0.5309649148733797\n",
      "0.061929829746759424\n",
      "0.12385965949351885\n",
      "0.2477193189870377\n",
      "0.4954386379740754\n",
      "0.9908772759481508\n",
      "0.9817545518963016\n",
      "0.9635091037926031\n",
      "0.9270182075852063\n",
      "0.8540364151704125\n",
      "0.708072830340825\n",
      "0.41614566068165004\n",
      "0.8322913213633001\n",
      "0.6645826427266002\n",
      "0.32916528545320034\n",
      "0.6583305709064007\n",
      "0.31666114181280136\n",
      "0.6333222836256027\n",
      "0.26664456725120544\n",
      "0.5332891345024109\n",
      "0.06657826900482178\n",
      "0.13315653800964355\n",
      "0.2663130760192871\n",
      "0.5326261520385742\n",
      "0.06525230407714844\n",
      "0.13050460815429688\n",
      "0.26100921630859375\n",
      "0.5220184326171875\n",
      "0.044036865234375\n",
      "0.08807373046875\n",
      "0.1761474609375\n",
      "0.352294921875\n",
      "0.70458984375\n",
      "0.4091796875\n",
      "0.818359375\n",
      "0.63671875\n",
      "0.2734375\n",
      "0.546875\n",
      "0.09375\n",
      "0.1875\n",
      "0.375\n",
      "0.75\n",
      "0.5\n",
      "0.0\n",
      "0.0\n"
     ]
    }
   ],
   "source": [
    "def f(x):\n",
    "    x = 2.0 * x\n",
    "    while (x>=1.0): x = x - 1.0\n",
    "    while (x<0.0): x = x + 1.0\n",
    "    return x\n",
    "    \n",
    "## Let's consider what happens to π under f.\n",
    "import math as ma\n",
    "x = ma.pi\n",
    "print(ma.pi)\n",
    "\n",
    "for i in range (1, 50):\n",
    "    x = f(x)\n",
    "    print(x)\n",
    "    "
   ]
  },
  {
   "cell_type": "markdown",
   "metadata": {},
   "source": [
    "In less than $50$ iterations, $f$ converts π to $0$.  \n",
    "\n",
    "* * *\n",
    "\n",
    "*Fact*: if π was represented accurately, the above sequence should *never* terminate. \n",
    "\n",
    "Denote $f(f(f(\\cdots f(x) \\cdots )))$ by $f^{(n)}(x)$, i.e. applying $f$ $n$-times, iteratively, to $x$.  \n",
    "\n",
    "* * *\n",
    "\n",
    "*Observation*: The only real numbers $x \\in \\mathbb R$ such that for some integer $n \\in \\{0,1,2,3,\\cdots\\}$ $f^{(n)}(x) = 0$ are:\n",
    "\n",
    "$$ \\{ \\frac{p}{2^k} : p \\in \\mathbb Z, k \\in \\{0,1,2,3,\\cdots\\} \\}$$\n",
    "\n",
    "i.e. $x$ has to be a *rational* number, numerator an integer, with denominator a power of $2$. \n",
    "\n",
    "* * *\n",
    "\n",
    "So even for rational numbers like $\\frac{1}{3}$, the sequence $f^{(n)}(1/3)$ should never terminate at $0$.  For rational numbers this sequence turns out to be always *periodic*, for example:\n",
    "$$ f(1/3) = \\lfloor 2/3 \\rfloor = 2/3$$\n",
    "$$ f(2/3) = \\lfloor 4/3 \\rfloor = 1/3$$\n",
    "$$ f(1/3) = \\lfloor 2/3 \\rfloor = 2/3$$\n",
    "so the sequence $f^{(n)}(1/3)$ is $1/3, 2/3, 1/3, 2/3, \\cdots $. \n",
    "\n",
    "*But* if we make $1/3$ a floating point number, look what happens:"
   ]
  },
  {
   "cell_type": "code",
   "execution_count": 4,
   "metadata": {},
   "outputs": [
    {
     "name": "stdout",
     "output_type": "stream",
     "text": [
      "0.6666666666666666\n",
      "0.33333333333333326\n",
      "0.6666666666666665\n",
      "0.33333333333333304\n",
      "0.6666666666666661\n",
      "0.33333333333333215\n",
      "0.6666666666666643\n",
      "0.3333333333333286\n",
      "0.6666666666666572\n",
      "0.3333333333333144\n",
      "0.6666666666666288\n",
      "0.33333333333325754\n",
      "0.6666666666665151\n",
      "0.33333333333303017\n",
      "0.6666666666660603\n",
      "0.3333333333321207\n",
      "0.6666666666642413\n",
      "0.3333333333284827\n",
      "0.6666666666569654\n",
      "0.3333333333139308\n",
      "0.6666666666278616\n",
      "0.3333333332557231\n",
      "0.6666666665114462\n",
      "0.3333333330228925\n",
      "0.666666666045785\n",
      "0.3333333320915699\n",
      "0.6666666641831398\n",
      "0.3333333283662796\n",
      "0.6666666567325592\n",
      "0.3333333134651184\n",
      "0.6666666269302368\n",
      "0.33333325386047363\n",
      "0.6666665077209473\n",
      "0.33333301544189453\n",
      "0.6666660308837891\n",
      "0.3333320617675781\n",
      "0.6666641235351562\n",
      "0.3333282470703125\n",
      "0.666656494140625\n",
      "0.33331298828125\n",
      "0.6666259765625\n",
      "0.333251953125\n",
      "0.66650390625\n",
      "0.3330078125\n",
      "0.666015625\n",
      "0.33203125\n",
      "0.6640625\n",
      "0.328125\n",
      "0.65625\n",
      "0.3125\n",
      "0.625\n",
      "0.25\n",
      "0.5\n",
      "0.0\n",
      "0.0\n"
     ]
    }
   ],
   "source": [
    "x=1.0/3.0\n",
    "for i in range (0, 55):\n",
    "    x = f(x)\n",
    "    print(x)\n",
    "    "
   ]
  },
  {
   "cell_type": "markdown",
   "metadata": {},
   "source": [
    "This is one of the dangers of floating point numbers.  It can result in computation errors in a suprising array of situations.  These errors are called **round off errors**. \n",
    "\n",
    "In cases where you need to perform iterations like this and you are looking for *absolute* precision, Python has various other data types you could consider.  For example, the rational number data type. "
   ]
  },
  {
   "cell_type": "code",
   "execution_count": 37,
   "metadata": {},
   "outputs": [
    {
     "name": "stdout",
     "output_type": "stream",
     "text": [
      "2/3\n",
      "1/3\n",
      "2/3\n",
      "1/3\n",
      "2/3\n"
     ]
    }
   ],
   "source": [
    "## fraction-safe version of f. We've turned all the numbers that were\n",
    "## floats, like 2.0 and 1.0 and converted them to numbers interpreted\n",
    "## as integers. The Fraction data type turns expressions such as\n",
    "## Fraction(1,3) + 1 into Fraction(4,3). \n",
    "def f(x):\n",
    "    x = 2 * x\n",
    "    while (x>=1): x = x - 1\n",
    "    while (x<0): x = x + 1\n",
    "    return x\n",
    "\n",
    "import fractions as frac\n",
    "x=frac.Fraction(1,3)\n",
    "\n",
    "for i in range (0, 5):\n",
    "    x = f(x)\n",
    "    print(x)\n",
    "    "
   ]
  },
  {
   "cell_type": "code",
   "execution_count": 42,
   "metadata": {},
   "outputs": [
    {
     "name": "stdout",
     "output_type": "stream",
     "text": [
      "2/3\n",
      "1/3\n",
      "2/3\n",
      "1/3\n",
      "2/3\n",
      "<class 'sympy.core.numbers.Rational'>\n"
     ]
    }
   ],
   "source": [
    "## we could also do the above with the Sympy integer class but it of course would be slower.\n",
    "x = sp.Integer(1)/sp.Integer(3)\n",
    "for i in range(0, 5):\n",
    "    x = f(x)\n",
    "    print(x)\n",
    "print(type(x))"
   ]
  },
  {
   "cell_type": "markdown",
   "metadata": {},
   "source": [
    "Now we have $f$ simulated accurately on our computers.  The unfortunate side-effect \n",
    "of this is that numbers like $\\pi$ are not rational numbers.   Another unfortunate side-effect is that some procedures, even if they work with integers converge towards irrational numbers like $\\pi$, which is difficult to approximate with fractions.  For instance, the function\n",
    "\n",
    "$$ x \\longmapsto \\frac{x^2+2}{2x}$$\n",
    "\n",
    "converges to $\\sqrt{2}$ on iteration. "
   ]
  },
  {
   "cell_type": "code",
   "execution_count": 7,
   "metadata": {},
   "outputs": [
    {
     "name": "stdout",
     "output_type": "stream",
     "text": [
      "3/2\n",
      "17/12\n",
      "577/408\n",
      "665857/470832\n",
      "886731088897/627013566048\n",
      "1572584048032918633353217/1111984844349868137938112\n",
      "\n",
      "The result approximated as a float:  1.4142135623730951\n"
     ]
    }
   ],
   "source": [
    "def f(x):\n",
    "    return (x**2+2)/(2*x)\n",
    "\n",
    "x = frac.Fraction(1,1)\n",
    "for i in range(6):\n",
    "    x = f(x)\n",
    "    print(x)\n",
    "\n",
    "print(\"\\nThe result approximated as a float: \", float(x))"
   ]
  },
  {
   "cell_type": "markdown",
   "metadata": {},
   "source": [
    "Floating point numbers are (presented as) numbers of the form $A\\cdot 10^B$ where $A$ and $B$ are integers.\n",
    "\n",
    "For example, to represent the number $$1.0324=10324 \\cdot 10^{-4}$$ \n",
    "Python would store this as a pair of integers $(10324, -4)$. \n",
    "\n",
    "* The first integer, $10324$ is called the *significand*.  \n",
    "* The second integer $-4$ is called the *exponent*.  \n",
    "* $10$ is called the *base*.  \n",
    "\n",
    "Since integers are stored with a fixed amount of system memory \n",
    "(typically one $64$-bit or $32$-bit register) they are of \n",
    "limited size. This means that floating point numbers have \n",
    "limits on what kinds of numbers they can describe. It also means that even the\n",
    "addition and multiplication operation for floating point numbers are subject to \n",
    "usually small, but sometimes large errors. \n",
    "\n",
    "* * *\n",
    "\n",
    "To determine how many decimal-places of precision your Python interface has, \n",
    "we compute $1.0 + 10^k$ for $k$ various negative integers.\n",
    "On my laptop $k=-15$ is the limit of precision."
   ]
  },
  {
   "cell_type": "code",
   "execution_count": 10,
   "metadata": {},
   "outputs": [
    {
     "name": "stdout",
     "output_type": "stream",
     "text": [
      "1.0 + 10^-14 = 1.00000000000001\n",
      "1.0 + 10^-15 = 1.000000000000001\n",
      "1.0 + 10^-16 = 1.0\n",
      "1.0 + 2^-50 = 1.0000000000000009\n",
      "1.0 + 2^-51 = 1.0000000000000004\n",
      "1.0 + 2^-52 = 1.0000000000000002\n",
      "1.0 + 2^-53 = 1.0\n"
     ]
    }
   ],
   "source": [
    "for i in range(14, 17):\n",
    "    print(\"1.0 + 10^-\",i,\" = \", 1.0 + pow(10,-i), sep='')\n",
    "\n",
    "for i in range(50, 54):\n",
    "    print(\"1.0 + 2^-\", i,\" = \", 1.0 + pow(2,-i), sep='')"
   ]
  },
  {
   "cell_type": "markdown",
   "metadata": {},
   "source": [
    "## Features of Sympy\n",
    "\n",
    "The primary feature of the **Sympy** library is that it does not try to reduce expressions to floats.  It keeps the mathematics as formal/algebraic as you like, and has a reasonable amount of knowledge of how algebraic expressions can be manipulated.\n",
    "\n",
    "The [features](http://www.sympy.org/en/features.html) of Sympy are vast and the scope of the library is changing rather quickly. It aims to be able to accomplish all forms of symbolic computation that *can* in principle be done by a computer. \n",
    "\n",
    "The qualifier in the above sentence is rather important. There are many basic algebraic tasks that are *non-computable*, in the sense that we have proofs that it is *impossible* to write a computer program that computes the answer to certain algebraic problems.  A closely related fact is that many differential equations do not have closed-form solutions, i.e. their solutions are not expressible in terms of [*elementary functions*](https://en.wikipedia.org/wiki/Elementary_function). \n",
    "\n",
    "These issues lead to certain unavoidable problems in symbolic computation.  For some tasks, Sympy has effective algorithms that give useful answers in a reliable manner.  But for other kinds of requestions, rather than give up, Sympy will *try* to answer your query, but there are *no* estimates for how long it might take, *nor* how much system memory it will require to complete the task you have asked of it.  In effect sympy may or may not give you an answer to these kinds of requests.  There is a further clas of problems where it is known no *elementary* solution exists -- so if you ask for such a solution Sympy will do nothing at all.\n",
    " \n",
    "\n",
    "* * *\n",
    "\n",
    "## Algebraic expressions"
   ]
  },
  {
   "cell_type": "code",
   "execution_count": 11,
   "metadata": {},
   "outputs": [
    {
     "name": "stdout",
     "output_type": "stream",
     "text": [
      "\n",
      "Sympy has a variety of output formats including ASCII, unicode, and latex:\n",
      "  ___\n",
      "\\/ 2 \n",
      "√2\n",
      "\\sqrt{2} \n",
      "\n",
      "√2\n"
     ]
    }
   ],
   "source": [
    "import sympy as sp\n",
    "\n",
    "st = sp.sqrt(2) ## the square root of 2.\n",
    "\n",
    "## Sympy has a variety of output formats\n",
    "print(\"\\nSympy has a variety of output formats including ASCII, unicode, and latex:\")\n",
    "sp.pprint(st, use_unicode=False)\n",
    "sp.pprint(st, use_unicode=True)\n",
    "print(sp.latex(st), \"\\n\")\n",
    "\n",
    "## Default appears to be unicode=True\n",
    "sp.pprint(st)"
   ]
  },
  {
   "cell_type": "markdown",
   "metadata": {},
   "source": [
    "$\\sqrt{2}$ \n",
    "\n",
    "The above in a markdown cell."
   ]
  },
  {
   "cell_type": "code",
   "execution_count": 15,
   "metadata": {},
   "outputs": [
    {
     "name": "stdout",
     "output_type": "stream",
     "text": [
      "\n",
      "Notice we can not use sqrt(2) in a Fraction.\n",
      "\n",
      "To implement sqrt(2)/2 we would continue to use sympy.\n",
      "√2\n",
      "──\n",
      "2 \n"
     ]
    }
   ],
   "source": [
    "import fractions as fr\n",
    "print(\"\\nNotice we can not use sqrt(2) in a Fraction.\")\n",
    "#print(fr.Fraction(st,2))\n",
    "\n",
    "print(\"\\nTo implement sqrt(2)/2 we would continue to use sympy.\")\n",
    "sp.pprint(st/2)"
   ]
  },
  {
   "cell_type": "markdown",
   "metadata": {},
   "source": [
    "With Sympy, checking equality can be more involved than one expects.\n",
    "\n",
    "For example, lets check if $\\sqrt(2)/2$ is the same as $1/\\sqrt(2)$.\n",
    "\n",
    "but. . .\n",
    "\n",
    "$$\\frac{1}{1 + \\sqrt{2}} \\text{ and } \\sqrt{2} - 1 $$"
   ]
  },
  {
   "cell_type": "code",
   "execution_count": 43,
   "metadata": {},
   "outputs": [
    {
     "name": "stdout",
     "output_type": "stream",
     "text": [
      "False\n"
     ]
    },
    {
     "data": {
      "text/plain": [
       "0"
      ]
     },
     "execution_count": 43,
     "metadata": {},
     "output_type": "execute_result"
    }
   ],
   "source": [
    "## not the way to check equality\n",
    "print(1/(1+sp.sqrt(2))==sp.sqrt(2)-1)\n",
    "## usually a good way. . .\n",
    "sp.simplify((1/(1+st))-(st-1))"
   ]
  },
  {
   "cell_type": "markdown",
   "metadata": {},
   "source": [
    "When one defines objects like $\\sqrt{2}/2$ in sympy, it observes that you are dividing two objects that are powers of $\\sqrt{2}$ so it simplifies both rapidly to a power of $\\sqrt{2}$.  \n",
    "\n",
    "The double equals symbol has *limited* utility for comparing sympy objects.  So please **use with care.**  Sympy only recognises objects as being *equal* when they are stored (internally) in identical syntax.  \n",
    "\n",
    " * Some objects, like $\\sqrt{2}/2$ reduce in syntax immediately to a 'minimal representative', in this case $1/\\sqrt{2}$. \n",
    " * Other objects have no canonical minimal representative (to Sympy's knowledge) so the syntax you choose to represent your object matters. \n",
    "\n",
    "You can get a hint as to how useful the double equals symbol is, by determining the data type sympy is using to store your object. "
   ]
  },
  {
   "cell_type": "code",
   "execution_count": 44,
   "metadata": {},
   "outputs": [
    {
     "name": "stdout",
     "output_type": "stream",
     "text": [
      "Type for sqrt(2) : <class 'sympy.core.power.Pow'>\n",
      "Type for 1/(1+sqrt(2)) : <class 'sympy.core.power.Pow'>\n",
      "Type for sqrt(2)-1 : <class 'sympy.core.add.Add'>\n"
     ]
    }
   ],
   "source": [
    "print(\"Type for sqrt(2) : \"+str(type(st)))\n",
    "print(\"Type for 1/(1+sqrt(2)) : \"+str(type(1/(1+st))))\n",
    "print(\"Type for sqrt(2)-1 : \"+str(type(st-1)))"
   ]
  },
  {
   "cell_type": "markdown",
   "metadata": {},
   "source": [
    "This is a *huge* **clue** as to how sympy thinks.  A sympy algebraic expression is stored internally in what is known as a **rooted tree**. \n",
    "\n",
    "<div style=\"display: inline-block; margin-right: 12px; margin-left: 50px\">\n",
    "<img src=\"tree1.png\" width=\"150\" height=\"150\" class=\"alignleft\" title=\"sqrt(2)\"/></div>\n",
    "<div style=\"display: inline-block; margin-right: 12px; margin-left: 50px\">\n",
    "<img src=\"tree2.png\" width=\"250\" height=\"250\" class=\"alignleft\" title=\"sqrt(2)-1\"/></div>\n",
    "<div style=\"display: inline-block; margin-right: 12px; margin-left: 50px\">\n",
    "<img src=\"tree3.png\" width=\"300\" height=\"300\" class=\"alignleft\" title=\"1/(1+sqrt(2))\"/></div>\n",
    "\n",
    "The **final** operation in the expression is the **base** or **root** of the tree.  When one calls the double-equal operation for sympy expressions in Python, what Python does is it checks to see if the roots are identical.  If the roots of the trees are identical, it recursively moves *up* the tree, to check if all the sub-trees are identical.  \n",
    "\n",
    "Sympy will perform the most *elementary* simplifications automatically, such as $\\frac{\\sqrt{2}}{2} = \\frac{1}{\\sqrt{2}}$. The term *elementary* should be taken to mean the simplifications that cost Python essentially no time or processing power. Sympy only attempts this for objects where a *canonical form* is known. \n",
    "\n",
    "Checking equality of more complicated expressions involves more computation, quite often because there is *no* canonical form. \n",
    "\n",
    "The internal tree structure to a sympy object is expressible with the <a href=\"http://docs.sympy.org/latest/tutorial/manipulation.html\">*srepr*</a> command."
   ]
  },
  {
   "cell_type": "code",
   "execution_count": 45,
   "metadata": {},
   "outputs": [
    {
     "data": {
      "text/plain": [
       "'Pow(Add(Integer(1), Pow(Integer(2), Rational(1, 2))), Integer(-1))'"
      ]
     },
     "execution_count": 45,
     "metadata": {},
     "output_type": "execute_result"
    }
   ],
   "source": [
    "sp.srepr(1/(1+st))"
   ]
  },
  {
   "cell_type": "markdown",
   "metadata": {},
   "source": [
    "## Check a function is a solution to a differential equation.\n",
    "\n",
    "Let's apply Sympy to check if a function is a solution to an ODE."
   ]
  },
  {
   "cell_type": "code",
   "execution_count": 48,
   "metadata": {},
   "outputs": [
    {
     "name": "stdout",
     "output_type": "stream",
     "text": [
      "f == 1/(1 + exp(-x))\n",
      "f' == exp(-x)/(1 + exp(-x))**2\n",
      "\n"
     ]
    }
   ],
   "source": [
    "x = sp.Symbol('x')\n",
    "f = 1/(1 + sp.exp(-x))\n",
    "fp = sp.diff(f,x)\n",
    "print(\"f == \"+str(f))\n",
    "print(\"f' == \"+str(fp)+\"\\n\")"
   ]
  },
  {
   "cell_type": "code",
   "execution_count": 49,
   "metadata": {},
   "outputs": [
    {
     "name": "stdout",
     "output_type": "stream",
     "text": [
      "Is f a solution to logistic de f'=f(1-f) ?: \n",
      "(1 - 1/(1 + exp(-x)))/(1 + exp(-x)) == exp(-x)/(1 + exp(-x))**2\n",
      "\n"
     ]
    }
   ],
   "source": [
    "print(\"Is f a solution to logistic de f'=f(1-f) ?: \")\n",
    "print(str(f*(1-f))+\" == \"+str(fp)+\"\\n\")"
   ]
  },
  {
   "cell_type": "code",
   "execution_count": 50,
   "metadata": {},
   "outputs": [
    {
     "name": "stdout",
     "output_type": "stream",
     "text": [
      "Before simplification: f'-f*(1-f) == \n",
      "         1                \n",
      "  1 - ───────             \n",
      "           -x       -x    \n",
      "      1 + ℯ        ℯ      \n",
      "- ─────────── + ──────────\n",
      "         -x              2\n",
      "    1 + ℯ       ⎛     -x⎞ \n",
      "                ⎝1 + ℯ  ⎠ \n"
     ]
    }
   ],
   "source": [
    "ode = fp - f*(1-f)\n",
    "print(\"Before simplification: f'-f*(1-f) == \")\n",
    "sp.pprint(ode)"
   ]
  },
  {
   "cell_type": "code",
   "execution_count": 51,
   "metadata": {},
   "outputs": [
    {
     "name": "stdout",
     "output_type": "stream",
     "text": [
      "After simplification: \n",
      "0\n"
     ]
    }
   ],
   "source": [
    "print(\"After simplification: \")\n",
    "\n",
    "ode_reduced = sp.simplify(ode)\n",
    "sp.pprint(ode_reduced)"
   ]
  },
  {
   "cell_type": "markdown",
   "metadata": {},
   "source": [
    "### Complex answers"
   ]
  },
  {
   "cell_type": "code",
   "execution_count": 52,
   "metadata": {},
   "outputs": [
    {
     "name": "stdout",
     "output_type": "stream",
     "text": [
      "   b    \n",
      "a⋅x  + c\n",
      "  ⎛⎧log(x)  for b = -1⎞      \n",
      "  ⎜⎪                  ⎟      \n",
      "  ⎜⎪ b + 1            ⎟      \n",
      "a⋅⎜⎨x                 ⎟ + c⋅x\n",
      "  ⎜⎪──────  otherwise ⎟      \n",
      "  ⎜⎪b + 1             ⎟      \n",
      "  ⎝⎩                  ⎠      \n",
      "\n",
      "\n",
      "\n",
      "                    ⎛⎧log(x)  for b = -1⎞      \n",
      "⌠                   ⎜⎪                  ⎟      \n",
      "⎮ ⎛   b    ⎞        ⎜⎪ b + 1            ⎟      \n",
      "⎮ ⎝a⋅x  + c⎠ dx = a⋅⎜⎨x                 ⎟ + c⋅x\n",
      "⌡                   ⎜⎪──────  otherwise ⎟      \n",
      "                    ⎜⎪b + 1             ⎟      \n",
      "                    ⎝⎩                  ⎠      \n"
     ]
    }
   ],
   "source": [
    "a,b,c = sp.symbols('a b c')\n",
    "f = a*x**b+c\n",
    "sp.pprint(f)\n",
    "af = sp.integrate(f,x)\n",
    "sp.pprint(af)\n",
    "## And a cute display\n",
    "print(\"\\n\\n\")\n",
    "sp.pprint(sp.Eq(sp.Integral(f,x), af))"
   ]
  },
  {
   "cell_type": "code",
   "execution_count": 61,
   "metadata": {},
   "outputs": [
    {
     "name": "stdout",
     "output_type": "stream",
     "text": [
      "Add(Mul(Symbol('a'), Piecewise(ExprCondPair(log(Symbol('x')), Equality(Symbol('b'), Integer(-1))), ExprCondPair(Mul(Pow(Symbol('x'), Add(Symbol('b'), Integer(1))), Pow(Add(Symbol('b'), Integer(1)), Integer(-1))), S.true))), Mul(Symbol('c'), Symbol('x')))\n",
      "Piecewise((log(x), Eq(b, -1)), (x**(b + 1)/(b + 1), True))\n",
      "<class 'sympy.core.add.Add'>\n"
     ]
    }
   ],
   "source": [
    "print(sp.srepr(af))\n",
    "## you can navigate the tree using the func and args keyword\n",
    "print(af.args[0].args[1])\n",
    "print(af.func)"
   ]
  },
  {
   "cell_type": "markdown",
   "metadata": {},
   "source": [
    "### Let's ask Sympy to solve some ODEs"
   ]
  },
  {
   "cell_type": "code",
   "execution_count": 74,
   "metadata": {},
   "outputs": [
    {
     "name": "stdout",
     "output_type": "stream",
     "text": [
      "We wish to get sympy to solve the differential equation: \n",
      "d             2   \n",
      "──(f(x)) = k⋅f (x)\n",
      "dx                \n"
     ]
    }
   ],
   "source": [
    "f=sp.Function('f')\n",
    "x=sp.Symbol('x', real=True)\n",
    "            \n",
    "k=sp.symbols('k')\n",
    "ODE = sp.Eq( sp.Derivative(f(x), x), k*f(x)**2 )\n",
    "\n",
    "print(\"We wish to get sympy to solve the differential equation: \")\n",
    "sp.pprint(ODE)"
   ]
  },
  {
   "cell_type": "code",
   "execution_count": 75,
   "metadata": {},
   "outputs": [
    {
     "name": "stdout",
     "output_type": "stream",
     "text": [
      "         -1    \n",
      "f(x) = ────────\n",
      "       C₁ + k⋅x\n"
     ]
    }
   ],
   "source": [
    "SOL = sp.dsolve(ODE)\n",
    "sp.pprint(SOL)"
   ]
  },
  {
   "cell_type": "code",
   "execution_count": 96,
   "metadata": {},
   "outputs": [
    {
     "name": "stdout",
     "output_type": "stream",
     "text": [
      "        -1  \n",
      "f(x) = ─────\n",
      "       x + 1\n",
      "        -1  \n",
      "f(x) = ─────\n",
      "       x + 2\n",
      "        -1  \n",
      "f(x) = ─────\n",
      "       x + 3\n",
      "        -1  \n",
      "f(x) = ─────\n",
      "       x + 4\n"
     ]
    },
    {
     "data": {
      "image/png": "[encoded data removed]",
      "text/plain": [
       "<matplotlib.figure.Figure at 0x7f6e1de4d320>"
      ]
     },
     "metadata": {},
     "output_type": "display_data"
    }
   ],
   "source": [
    "import matplotlib.pyplot as plt\n",
    "import numpy as np\n",
    "%matplotlib inline\n",
    "\n",
    "plt.close()\n",
    "\n",
    "fig, ax = plt.subplots()\n",
    "\n",
    "## Let's plot some solution curves for a given k.\n",
    "SOLk = SOL.subs([(k, 1)])\n",
    "\n",
    "for c in range(1,5):\n",
    "    SOLc = SOLk.subs([(sp.Symbol('C1'), c)])\n",
    "    F = sp.lambdify(x, SOLc.args[1])\n",
    "    dom = np.arange(0, 2, 0.1)\n",
    "    ran = [F(p) for p in dom]\n",
    "    plt.plot( dom, ran, label='$'+sp.latex(SOLc)+'$' )\n",
    "    sp.pprint(SOLc)\n",
    "\n",
    "legend = ax.legend(loc='lower right')\n",
    "\n",
    "plt.show()"
   ]
  },
  {
   "cell_type": "markdown",
   "metadata": {},
   "source": [
    "## More Generally -- Solving ODES with sympy\n",
    "\n",
    "At present, sympy's ode solving algorithm is basically a big *cookbook*-style database of formulas.  The key computational task sympy must perform is to recognise what type of differential equation you have provided it.  \n",
    "\n",
    "Once it recognises the form from its cookbook, it follows standard procedures, which usually amount to either computing anti-derivatives, Fourier transforms, power series, etc. \n",
    "\n",
    "**Sympy has algorithms to solve:**\n",
    "\n",
    "* First order ODEs that are: \n",
    "     - separable differential equations\n",
    "     - differential equations whose coefficients homogeneous of the same order.\n",
    "     - exact differential equations.\n",
    "     - linear differential equations\n",
    "     - Bernoulli differential equations.\n",
    "\n",
    "* Second order ODEs that are:\n",
    "    - Liouville differential equations.\n",
    "\n",
    "* n-th order ODEs that are:\n",
    "    - linear homogeneous differential equation with constant coefficients.\n",
    "    - linear inhomogeneous differential equation with constant coefficients using the method of undetermined coefficients.\n",
    "    - linear inhomogeneous differential equation with constant coefficients using the method of variation of paramete"
   ]
  },
  {
   "cell_type": "code",
   "execution_count": 97,
   "metadata": {},
   "outputs": [
    {
     "data": {
      "text/plain": [
       "('1st_homogeneous_coeff_best',\n",
       " '1st_homogeneous_coeff_subs_indep_div_dep',\n",
       " '1st_homogeneous_coeff_subs_dep_div_indep',\n",
       " 'lie_group',\n",
       " '1st_homogeneous_coeff_subs_indep_div_dep_Integral',\n",
       " '1st_homogeneous_coeff_subs_dep_div_indep_Integral')"
      ]
     },
     "execution_count": 97,
     "metadata": {},
     "output_type": "execute_result"
    }
   ],
   "source": [
    "y=sp.Function('y')\n",
    "\n",
    "sp.classify_ode( sp.Eq( y(x).diff(x) + ((3*x*y(x)+y(x)**2)/(x**2+x*y(x))), 0 ), y(x) )\n"
   ]
  },
  {
   "cell_type": "code",
   "execution_count": 98,
   "metadata": {},
   "outputs": [
    {
     "name": "stdout",
     "output_type": "stream",
     "text": [
      "            x                            x                     \n",
      "           ────                         ────                   \n",
      "           y(x)                         y(x)                   \n",
      "            ⌠                            ⌠                     \n",
      "            ⎮         -1                 ⎮       -3            \n",
      "            ⎮   ─────────────── d(u₂) +  ⎮   ──────────── d(u₂)\n",
      "            ⎮   2⋅u₂⋅(2⋅u₂ + 1)          ⎮   2⋅(2⋅u₂ + 1)      \n",
      "            ⌡                            ⌡                     \n",
      "                                                               \n",
      "y(x) = C₁⋅ℯ                                                    \n"
     ]
    }
   ],
   "source": [
    "sp.pprint(sp.dsolve(sp.Eq( y(x).diff(x) + ((3*x*y(x)+y(x)**2)/(x**2+x*y(x))), 0 ), \n",
    "                    hint=\"1st_homogeneous_coeff_subs_indep_div_dep_Integral\"))"
   ]
  },
  {
   "cell_type": "code",
   "execution_count": null,
   "metadata": {},
   "outputs": [],
   "source": []
  }
 ],
 "metadata": {
  "kernelspec": {
   "display_name": "Python 3",
   "language": "python",
   "name": "python3"
  },
  "language_info": {
   "codemirror_mode": {
    "name": "ipython",
    "version": 3
   },
   "file_extension": ".py",
   "mimetype": "text/x-python",
   "name": "python",
   "nbconvert_exporter": "python",
   "pygments_lexer": "ipython3",
   "version": "3.5.2"
  }
 },
 "nbformat": 4,
 "nbformat_minor": 2
}
