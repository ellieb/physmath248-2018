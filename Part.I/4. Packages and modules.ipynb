{
 "cells": [
  {
   "cell_type": "markdown",
   "metadata": {},
   "source": [
    "# Python packages and modules"
   ]
  },
  {
   "cell_type": "markdown",
   "metadata": {},
   "source": [
    "## Create your own modules\n",
    "* add functions and variables into file calles `mymod.py` in the _present working directory_\n",
    "* import module and use it"
   ]
  },
  {
   "cell_type": "code",
   "execution_count": null,
   "metadata": {},
   "outputs": [],
   "source": [
    "# ! rm mymod.py"
   ]
  },
  {
   "cell_type": "code",
   "execution_count": null,
   "metadata": {},
   "outputs": [],
   "source": [
    "%%bash\n",
    "wget https://raw.githubusercontent.com/UVic-CompPhys/physmath248-2018/master/examples/mymod.py"
   ]
  },
  {
   "cell_type": "code",
   "execution_count": null,
   "metadata": {},
   "outputs": [],
   "source": [
    "# have a quick look\n",
    "!cat mymod.py"
   ]
  },
  {
   "cell_type": "code",
   "execution_count": null,
   "metadata": {
    "collapsed": false
   },
   "outputs": [],
   "source": [
    "# import our module\n",
    "import mymod as mm"
   ]
  },
  {
   "cell_type": "code",
   "execution_count": null,
   "metadata": {},
   "outputs": [],
   "source": [
    "# help!\n",
    "\n",
    "#mm?\n",
    "# or \n",
    "help(mm)\n"
   ]
  },
  {
   "cell_type": "code",
   "execution_count": null,
   "metadata": {
    "collapsed": false
   },
   "outputs": [],
   "source": [
    "mm.sqrt?"
   ]
  },
  {
   "cell_type": "markdown",
   "metadata": {
    "deletable": true,
    "editable": true
   },
   "source": [
    "## Organize your packages and modules\n",
    "\n",
    "As you start adding functions to your own library it may be useful to learn how to organize your own module a bit more conveniently. An easy way to do this is to create a directory, e.g. `pylib` in your home directory `/home/user`.  Then add into that directory files with names ending in `.py`. Add the `pylib` directory path to the python path. This can be done in one of two ways. One is by adding the line \n",
    "```\n",
    "export PYTHONPATH=\"/home/user/pylib\"\n",
    "```\n",
    "to your `.bashrc` file (and start a new terminal). Alternatively this can be done from the ipython notebook with the `sys.path.insert` command which sets the `PYTHONPATH` variable just of the current notebook session:"
   ]
  },
  {
   "cell_type": "code",
   "execution_count": null,
   "metadata": {},
   "outputs": [],
   "source": [
    "# move the mymod.py file to one central pylib directory\n",
    "!mkdir ~/pylib        # recall that `~` stands for `/home/user`\n",
    "!cp  mymod.py /home/user/pylib/mymod1.py"
   ]
  },
  {
   "cell_type": "code",
   "execution_count": null,
   "metadata": {
    "deletable": true,
    "editable": true
   },
   "outputs": [],
   "source": [
    "import sys\n",
    "sys.path.insert(1,'/home/user/pylib')"
   ]
  },
  {
   "cell_type": "code",
   "execution_count": null,
   "metadata": {},
   "outputs": [],
   "source": [
    "sys.path"
   ]
  },
  {
   "cell_type": "markdown",
   "metadata": {
    "deletable": true,
    "editable": true
   },
   "source": [
    "which has the disadvantage that it has to be done each time again and the advantage that one has a self-contained notebook unit in which all dependencies are explicit.\n",
    "\n",
    "**Private methods:**\n",
    "By convention python adopts a single leading underscore for private objects in a module and a double leading underscore for private objects in a class."
   ]
  },
  {
   "cell_type": "code",
   "execution_count": null,
   "metadata": {},
   "outputs": [],
   "source": [
    "# copy mymod to different name, add some constants and move to new dir ~/pylib\n",
    "import mymod1 as m1"
   ]
  },
  {
   "cell_type": "code",
   "execution_count": null,
   "metadata": {},
   "outputs": [],
   "source": [
    "# note the different location of mymnod1.py in the line `File:` compare to module mm\n",
    "m1?"
   ]
  },
  {
   "cell_type": "code",
   "execution_count": null,
   "metadata": {},
   "outputs": [],
   "source": [
    "mm?"
   ]
  },
  {
   "cell_type": "markdown",
   "metadata": {},
   "source": [
    "This is how you can have a number of files with lots of files, each of them a module with many constants, functions and classes (we get to classes later)."
   ]
  },
  {
   "cell_type": "markdown",
   "metadata": {},
   "source": [
    "### Advanced package structure\n",
    "\n",
    "But, for larger software projects that consists of several sub-projects that each have a number of modules one can combine different module files (ending in `.py`) into a package. A module can then consist of a number of `.py` files, each of which can have multiples variables, functions and classes.\n",
    "\n",
    "Create a new directory, for example `pypackages` which will contain your python packges. In that directory create a directory of a package, e.g.\\ `package1`. In that directory create an empty file with the name `__init__.py`.  Empty is the minimum, of course there could be useful things added to that packages initialization file. The presence of this `__init__.py` files signals to python that this directory is a loadable package. \n",
    "\n",
    "Then, add  one or several module `.py` files to the sub-package directory. Each of these files is now an individually loadable module in that package. "
   ]
  },
  {
   "cell_type": "code",
   "execution_count": null,
   "metadata": {},
   "outputs": [],
   "source": [
    "# !rm -rf ~/pypackages"
   ]
  },
  {
   "cell_type": "code",
   "execution_count": null,
   "metadata": {},
   "outputs": [],
   "source": [
    "! mkdir ~/pypackages\n",
    "! mkdir ~/pypackages/package1\n",
    "! cp /home/user/pylib/mymod1.py /home/user/pypackages/package1/mymod2.py\n",
    "! touch /home/user/pypackages/package1/__init__.py"
   ]
  },
  {
   "cell_type": "code",
   "execution_count": null,
   "metadata": {},
   "outputs": [],
   "source": [
    "sys.path.insert(1,'/home/user/pypackages')"
   ]
  },
  {
   "cell_type": "code",
   "execution_count": null,
   "metadata": {},
   "outputs": [],
   "source": [
    "from package1 import mymod2"
   ]
  },
  {
   "cell_type": "code",
   "execution_count": null,
   "metadata": {},
   "outputs": [],
   "source": [
    "# note again the different location of this module\n",
    "mymod2?"
   ]
  },
  {
   "cell_type": "markdown",
   "metadata": {},
   "source": [
    "## Be aware of different name spaces ... \n",
    "As I said before, there are many ways to do the same thing. Just beware:"
   ]
  },
  {
   "cell_type": "code",
   "execution_count": null,
   "metadata": {},
   "outputs": [],
   "source": [
    "sqrt?"
   ]
  },
  {
   "cell_type": "code",
   "execution_count": null,
   "metadata": {},
   "outputs": [],
   "source": [
    "import package1.mymod2"
   ]
  },
  {
   "cell_type": "code",
   "execution_count": null,
   "metadata": {},
   "outputs": [],
   "source": [
    "package1.mymod2.sqrt?"
   ]
  },
  {
   "cell_type": "code",
   "execution_count": null,
   "metadata": {},
   "outputs": [],
   "source": [
    "from package1.mymod2 import *"
   ]
  },
  {
   "cell_type": "code",
   "execution_count": null,
   "metadata": {},
   "outputs": [],
   "source": [
    "sqrt?"
   ]
  },
  {
   "cell_type": "code",
   "execution_count": null,
   "metadata": {},
   "outputs": [],
   "source": [
    "from mymod import *"
   ]
  },
  {
   "cell_type": "code",
   "execution_count": null,
   "metadata": {},
   "outputs": [],
   "source": [
    "sqrt?"
   ]
  }
 ],
 "metadata": {
  "kernelspec": {
   "display_name": "Python 3",
   "language": "python",
   "name": "python3"
  },
  "language_info": {
   "codemirror_mode": {
    "name": "ipython",
    "version": 3
   },
   "file_extension": ".py",
   "mimetype": "text/x-python",
   "name": "python",
   "nbconvert_exporter": "python",
   "pygments_lexer": "ipython3",
   "version": "3.5.2"
  }
 },
 "nbformat": 4,
 "nbformat_minor": 2
}
