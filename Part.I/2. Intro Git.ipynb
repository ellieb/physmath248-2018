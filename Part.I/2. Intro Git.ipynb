{
 "cells": [
  {
   "cell_type": "markdown",
   "metadata": {},
   "source": [
    "# 2. Distributed version control system\n",
    "\n",
    "## Introduction\n",
    "In this class we will share lecture notes, assignments, problem sets, exams etc. in the same way software development teams would. In any such team it would be important not only to share pieces of code and other information but to attribute it, and to document when and where work has been added and changes have been made. In this way the team can review changes to a previous version, find bugs and easily use and relate to previous versions. Another advantage is that everybody can make changes to their own copy and later merge the changes back to a common code base. We will adopt the _distributed version control system_ [git](https://en.wikipedia.org/wiki/Git).\n",
    "\n",
    "## Basic concepts\n",
    "* Explain basic concept along figures in intro chapters in the [Pro Git book](http://www.git-scm.com/book/en/v2), including\n",
    "    * follow [1.6 Getting Started - First-Time Git Setup](https://git-scm.com/book/en/v2/Getting-Started-First-Time-Git-Setup) to configure your git installation.\n",
    "    * follow [Chapter 2.1 Git Basics - Getting a Git Repository](https://git-scm.com/book/en/v2/Git-Basics-Getting-a-Git-Repository) to create the repo\n",
    "* **Self-study:** follow the short [interactive tutorial](https://try.github.io/levels/1/challenges/1)"
   ]
  },
  {
   "cell_type": "markdown",
   "metadata": {},
   "source": [
    "## Initial configuration\n",
    "\n",
    "The course notes that you are looking at right now are hosted on the [course repo](https://github.com/UVic-CompPhys/physmath248-2018) which is public git repository on [GitHub](http://github.com). \n",
    "\n",
    "* enter the terminal of your syzygy session \n",
    "* https vs. ssh, setting up your ssh key on BitBucket: create an ssh key and upload to your BitBucket account:\n",
    "    * `mkdir ~/.ssh`\n",
    "    * `cd ~/.ssh`\n",
    "    * `ssh-keygen`\n",
    "    * `cat ./id_rsa.pub` and copy and paste into _Settings/SSH keys_ in BitBucket account (not to the repository).\n",
    "* setup your `.gitconfig` file\n",
    "    * `$ git config --global user.name \"John Doe\"`\n",
    "    * `$ git config --global user.email johndoe@example.com`\n",
    "* clone repo, for example the course repo: `$ git clone https://github.com/UVic-CompPhys/physmath248-2018`"
   ]
  },
  {
   "cell_type": "markdown",
   "metadata": {},
   "source": [
    "### Your personal repo\n",
    "[GitHub](https://github.com) and [BitBucket](https://bitbucket.org) are two providers of Git servers. Github is hosting the course repo, which is a public repository. GitHub does not allow free private repos, unless you apply for an educational account. BitBucket does allow private accounts.\n",
    "\n",
    "You will need one private repo that you will _share_ with the instructors. This private repo will contain your homework, assignments, exams, your term project and anything else that you wish to share with us. You will do this in the [first Lab](./Lab.1a.ipynb)."
   ]
  },
  {
   "cell_type": "markdown",
   "metadata": {},
   "source": [
    "The easiest way to create your repo is to use the BitBucket web page and follow the instructions (Look for something like _Create new repository_). Clone your personal repo, and then add content:\n",
    "```\n",
    "$ echo \"# My student repo\" > README.md\n",
    "$ less README.md\n",
    "$ git status\n",
    "$ git add README.md\n",
    "$ git status\n",
    "$ git commit -m \"initial README file\"\n",
    "$ git status\n",
    "```\n",
    "At this point you have still committed your changes only to your local repository. For the instructurs to see your work, push your changes to the remote, the BitBucket server. \n",
    "```\n",
    "$ git push\n",
    "```\n",
    "and check on the BitBucket web page if your files are all correctly in place."
   ]
  },
  {
   "cell_type": "markdown",
   "metadata": {},
   "source": [
    "### Basic tasks\n",
    "Use the git repository to store and version control data in your own repos, and to get things from the course repo:\n",
    "\n",
    "* clone the course repo: `git clone https://github.com/UVic-CompPhys/physmath248-2018.git` (because you do not need to write to the course repo you can use https here, but for your own repo ssh is strongly recommended as described above.)\n",
    "* `git pull` to update your repo; `git pull` is doing two things in sequence that at some point you may decide to do separately\n",
    "    - first it does `git fetch` which updates your local repo with all information from the remote,but it does not change any file on your active branch\n",
    "    - second it performs a `git merge` which does update files in your current branch\n",
    "    - for the course repo using `git pull` is entirely appropriate because you would not add anything yourself, and `merge` really means _just add the new things_\n",
    "* You would have maybe tried out some notebooks and done some tests to your cloned course repo. Then after the next class you do `git pull` to update your version of the course repo. But since you have modified some files since last time git would refuse to pull the new version as this would potentially overwrite some of your changes. There are two or three ways to deal with this:\n",
    "    1. instead of modifying the notebooks in place, create a `notes` dir in your own course repo, copy the notebook files for the current class there, and make your notes, try out things and customize. Then, commit these versions to your repo for savekeeping and future record.\n",
    "    2. Do what git tells you to do: `git stash` [_stashes away_](https://git-scm.com/docs/git-stash) your changes, they are somewhere and could be recovered later if needed. Git now will pull the latest version from the remote.\n",
    "    3. `git checkout _changed file_` will replace the modified version of _changed file_ with the _unchanged file_ from last commit. This will allow git to pull the latest version.\n",
    "    \n",
    "Once your own repo is in place the typical workflow involves:\n",
    "* `git add` to stage files you have newly created or modified for the next `commit` to the index\n",
    "* `git commit` creates a snapshot of the repo as it is staged in the index\n",
    "* `git push` will move the snapshot and the repo info to the remote repo on bitbucket.\n",
    "\n",
    "`git status` shows the status of your repo."
   ]
  },
  {
   "cell_type": "markdown",
   "metadata": {},
   "source": [
    "### More useful tips and tricks\n",
    "\n",
    "Bitbucket provides a visual representation of the repo tree with the various branches. On the command line the equivalent information can be obtained with\n",
    "```\n",
    "$ git log --all --oneline --decorate --graph\n",
    "```\n",
    "\n",
    "You may produce scratch files and other unwanted things in your repo, sich checkpoint files, log files etc. \n",
    "```\n",
    "$ git clean\n",
    "``` \n",
    "removes all files that are not under version control. Use with options `-i` (interactive), `-n` (dry run), `-d` (directory) and `-f` (force). \n"
   ]
  },
  {
   "cell_type": "markdown",
   "metadata": {},
   "source": [
    "### A little more advanced: Branching & merging\n",
    "\n",
    "A key feature of any DVC system is to support development work on a development branch while the master branch stays intact with the latest working version. This is a very useful advanced feature that we use all the time.  While your assignments are reviewed and checked you have continued to create snapshots in your repo. The instructor will have `pull`ed your repo at the due date of the assignment. The instructor will then create a branch and move `HEAD` to the new branch:\n",
    " \n",
    "```\n",
    "$ git branch dev_abc\n",
    "$ git checkout dev_abc\n",
    "```\n",
    "\n",
    "Any changes you now make to the repository are commited to that branch. To create that branch on the remote (`origin`, e.g. your bitbucket account) and push your changes do\n",
    "```\n",
    "$ git push --set-upstream origin dev_abc\n",
    "```\n",
    "to create the new branch at the remote (_origin_). When you now look at the `commit` view on bitbucket and select `All branches` or `Show all` you will see the new `dev_abc` branch has appeared. \n",
    "\n",
    "You can look at the changes introduced in the `dev_abc` branch online on the bitbucket web page. Go to `branches` where it should show your master as the main branch. Select the `dev_abc` branch and then the `Diff` tab to get an overview of the changes.\n",
    "\n",
    "`git pull` is a combined `git fetch` and `git merge`. \n",
    "`git fetch` will leave the `HEAD` on the `master` but you can switch to the  branch with `$ git checkout dev_abc`.\n",
    "\n",
    "Now you can look at the changes and comments in the `dev_abc` branch. If you switch the `HEAD` back to `master` (`git checkout master`) you may use `git merge` to merge the `dev_abc` branch with your main branch:\n",
    "```\n",
    "$ git merge dev_abc\n",
    "```\n",
    "\n",
    "\n",
    "### Helping improve the course notes\n",
    "* if you find errors, typos or have suggestions how these course notes could be improved consider making a pull request\n",
    "* file an _issue_ on the github course repo"
   ]
  }
 ],
 "metadata": {
  "kernelspec": {
   "display_name": "Python 3",
   "language": "python",
   "name": "python3"
  },
  "language_info": {
   "codemirror_mode": {
    "name": "ipython",
    "version": 3
   },
   "file_extension": ".py",
   "mimetype": "text/x-python",
   "name": "python",
   "nbconvert_exporter": "python",
   "pygments_lexer": "ipython3",
   "version": "3.5.2"
  }
 },
 "nbformat": 4,
 "nbformat_minor": 2
}
