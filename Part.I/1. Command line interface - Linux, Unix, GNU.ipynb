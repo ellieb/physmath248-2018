{
 "cells": [
  {
   "cell_type": "markdown",
   "metadata": {},
   "source": [
    "# 1. Command line interface CLI\n",
    "The Linux/Unix/GNU operating system command line interface.\n",
    "\n",
    "* General explanation of concepts\n",
    "* Specific details\n",
    "* A simple demonstration task\n",
    "* Advanced topics\n",
    "\n",
    "##  The unix command line\n",
    "\n",
    "### Shell\n",
    "The program that provides the command line (not all of the commands) is the shell. A common shell is `bash`. Try \n",
    "```\n",
    "$ man bash\n",
    "```\n",
    "The command line is a unix process. Launching a command on the command line interface (CLI) spawns a child process."
   ]
  },
  {
   "cell_type": "markdown",
   "metadata": {},
   "source": [
    "### File system\n",
    "```\n",
    "  ls (-l, many other options)\n",
    "  cd  (. or .. or ~ or actual directory)\n",
    "  pwd\n",
    "  mkdir\n",
    "  rmdir\n",
    "  mv  (works on files and directories)  \n",
    "  du (-sh)\n",
    "  df (-h)\n",
    "```\n",
    "In the following examples we are using the `%%bash` magic command to turn a python3 command cell into a bash cell. You should try the following examples on the terminal, then omitt the `%%bash` command:"
   ]
  },
  {
   "cell_type": "code",
   "execution_count": null,
   "metadata": {
    "collapsed": true
   },
   "outputs": [],
   "source": [
    "%%bash\n",
    "pwd"
   ]
  },
  {
   "cell_type": "code",
   "execution_count": null,
   "metadata": {
    "collapsed": true
   },
   "outputs": [],
   "source": [
    "%%bash\n",
    "ls -1 ?.*"
   ]
  },
  {
   "cell_type": "code",
   "execution_count": null,
   "metadata": {
    "collapsed": true
   },
   "outputs": [],
   "source": [
    "%%bash\n",
    "ls -1 [12].*"
   ]
  },
  {
   "cell_type": "code",
   "execution_count": null,
   "metadata": {
    "collapsed": true
   },
   "outputs": [],
   "source": [
    "%%bash\n",
    "cd ..;pwd"
   ]
  },
  {
   "cell_type": "code",
   "execution_count": null,
   "metadata": {
    "collapsed": true
   },
   "outputs": [],
   "source": [
    "%%bash\n",
    "cd ; pwd"
   ]
  },
  {
   "cell_type": "markdown",
   "metadata": {},
   "source": [
    "### File manipulation\n",
    "\n",
    "```\n",
    "  more/less/tail/head\n",
    "  cat\n",
    "  touch\n",
    "  cp\n",
    "  rm\n",
    "  grep\n",
    "  wc (-l)\n",
    "  sed\n",
    "```\n",
    "\n",
    "You have to pick one of these CLI editors:\n",
    "```\n",
    "  emacs, vi or nano \n",
    "```"
   ]
  },
  {
   "cell_type": "markdown",
   "metadata": {},
   "source": [
    "The following command looks for all lines that contain the words _superduper_ in the file name `1. Command line interface - Linux, Unix, GNU.ipynb` - i.e. this notebook file:"
   ]
  },
  {
   "cell_type": "code",
   "execution_count": null,
   "metadata": {
    "collapsed": false
   },
   "outputs": [],
   "source": [
    "%%bash\n",
    "grep \"superduper\" \"1. Command line interface - Linux, Unix, GNU.ipynb\" | wc -l"
   ]
  },
  {
   "cell_type": "markdown",
   "metadata": {},
   "source": [
    "Modify file content with stream-line editor `sed`. The following replaces the word _superduper_ with the word _Santa Claus_ in this file and write the result to standard output, which is the redirected to the file `tt.ipynb`. Have a look at that notebook."
   ]
  },
  {
   "cell_type": "code",
   "execution_count": null,
   "metadata": {
    "collapsed": true
   },
   "outputs": [],
   "source": [
    "%%bash\n",
    "sed s/\"superduper\"/\"Santa Claus\"/g 1.\\ Command\\ line\\ interface\\ -\\ Linux,\\ Unix,\\ GNU.ipynb > tt.ipynb"
   ]
  },
  {
   "cell_type": "markdown",
   "metadata": {},
   "source": [
    "### String manipulation\n",
    "```\n",
    "set \n",
    "basename\n",
    "dirname\n",
    "```"
   ]
  },
  {
   "cell_type": "code",
   "execution_count": null,
   "metadata": {
    "collapsed": true
   },
   "outputs": [],
   "source": [
    "%%bash\n",
    "set -- abc def 123 fg10\n",
    "echo $1"
   ]
  },
  {
   "cell_type": "code",
   "execution_count": null,
   "metadata": {
    "collapsed": true
   },
   "outputs": [],
   "source": [
    "%%bash\n",
    "astr=\"abc def 123 fg10\"\n",
    "set -- $astr\n",
    "echo $2"
   ]
  },
  {
   "cell_type": "code",
   "execution_count": null,
   "metadata": {
    "collapsed": true
   },
   "outputs": [],
   "source": [
    "%%bash\n",
    "basename /usr/local/share/doc/foo/foo.txt"
   ]
  },
  {
   "cell_type": "code",
   "execution_count": null,
   "metadata": {
    "collapsed": true
   },
   "outputs": [],
   "source": [
    "%%bash\n",
    "dirname /usr/local/share/doc/foo/foo.txt"
   ]
  },
  {
   "cell_type": "code",
   "execution_count": null,
   "metadata": {
    "collapsed": true
   },
   "outputs": [],
   "source": [
    "%%bash\n",
    "name=Christopher\n",
    "echo ${name:1:3}"
   ]
  },
  {
   "cell_type": "markdown",
   "metadata": {},
   "source": [
    "### Helpful commands\n",
    "```\n",
    "  man (command) - try man bash\n",
    "  history\n",
    "```\n",
    "\n",
    "### Networking\n",
    "```\n",
    "  ssh\n",
    "  scp\n",
    "  whoami\n",
    "  rsync \n",
    "  ftp\n",
    "  wget\n",
    "```\n",
    "\n",
    "wget example: download mymod.py file from GitHub course repo:\n"
   ]
  },
  {
   "cell_type": "code",
   "execution_count": null,
   "metadata": {
    "collapsed": true
   },
   "outputs": [],
   "source": [
    "%%bash\n",
    "wget https://github.com/UVic-CompPhys/physmath248-2018/blob/master/examples/mymod.py"
   ]
  },
  {
   "cell_type": "markdown",
   "metadata": {},
   "source": [
    "### Processes\n",
    "```\n",
    "  top\n",
    "  ps\n",
    "  kill\n",
    "  nohub, nice, &\n",
    "  pipes and filters: use | to pipe between command, use > to redirect output\n",
    "```"
   ]
  },
  {
   "cell_type": "code",
   "execution_count": null,
   "metadata": {
    "collapsed": true
   },
   "outputs": [],
   "source": [
    "%%bash\n",
    "ls | grep READ > out.txt\n",
    "cat out.txt"
   ]
  },
  {
   "cell_type": "markdown",
   "metadata": {},
   "source": [
    "### Shell scripts\n",
    "\n",
    "You can combine a sequence of shell commands into a file and use as a shell script. You have to make the file with the script executable (`chmod u+x file_name.sh`). See file [`example.sh`](../examples/example.sh). You can execute a shell script by just typing the name of the shell script file and hit Return:\n",
    "```\n",
    "./example.sh\n",
    "```\n",
    "\n",
    "\n",
    "The `./` at the beginning ensures that I am getting the command `example.sh` from the file in this current directory, and not in some other directory in the `PATH` environment variable. The `PATH` environment variable is a list of directories in which the shell will look for executable files. One common use case is that people create a `bin` directory (bin for binary which usually implies executable, but shell scripts are `ASCII` files and can also be executed). They place all personal programs and shell scripts in that `bin` dir. Then add the `$HOME/bin` dir to the `PATH` variable. Now, those programs will be available from anywhere in your directory tree. The `HOME` environemnt variable contains the path name of your home directory. Try `echo $HOME` on the command line.\n",
    "\n",
    "### Customize your shell/CLI\n",
    "You can define variables and aliases in the .bashrc file. The details on how this is set up depends on the particular Linux/Unix/Mac flavour.\n",
    "\n",
    "```\n",
    "   alias\n",
    "   environment variables\n",
    "```\n",
    "\n",
    "At startup the shell will execute the shell commands in `.bashrc`.\n",
    "There may already be a `.bashrc` in your home directory, have a look in there, it may suggest that you add your own aliases to a `.bash_aliases` file. Else add aliases and environment variables directly to the `.bashrc` file. Add:\n",
    "* an environment variable of your workspace, e.g. `export PATH=$PATH:$HOME/bin`\n",
    "* an alias to redefine the `rm` command to always ask if a file should really be removed\n",
    "* an alias for your editor   "
   ]
  },
  {
   "cell_type": "markdown",
   "metadata": {},
   "source": [
    "### Flow control in bash\n",
    "\n",
    "Bash provides elaborate flow control that allows you to create powerful tools to maninupate files in a file system."
   ]
  },
  {
   "cell_type": "code",
   "execution_count": null,
   "metadata": {},
   "outputs": [],
   "source": [
    "%%bash\n",
    "names=\"Alfred Paul Ellis Roxie Sam\"\n",
    "for name in $names\n",
    "do\n",
    "echo Hello $name! How are you doing? > $name.txt\n",
    "done\n",
    "\n",
    "# and check output:\n",
    "ls *txt\n",
    "cat $name.txt"
   ]
  },
  {
   "cell_type": "code",
   "execution_count": null,
   "metadata": {},
   "outputs": [],
   "source": [
    "%%bash\n",
    "if [ -f Sam.txt ] \n",
    "then\n",
    "echo Sam.txt does already exist.\n",
    "fi"
   ]
  },
  {
   "cell_type": "code",
   "execution_count": null,
   "metadata": {},
   "outputs": [],
   "source": [
    "%%bash\n",
    "# Another way to do this is the logical \"and\" operator \"&&\"\n",
    "# think about it ....\n",
    "[ -f Sam.txt ] && echo Sam.txt does already exist."
   ]
  },
  {
   "cell_type": "markdown",
   "metadata": {},
   "source": [
    "`&&` is the _and_ operator, and `||` is the _or_ operatpr. Try an example with the '||' operator."
   ]
  },
  {
   "cell_type": "markdown",
   "metadata": {},
   "source": [
    "### Example\n",
    "The following cell writes a file on the command line using `cat`:"
   ]
  },
  {
   "cell_type": "code",
   "execution_count": null,
   "metadata": {
    "collapsed": true
   },
   "outputs": [],
   "source": [
    "%%bash\n",
    "cat > ~/.bashrc << %% \n",
    "export EDITOR=\"emacs -nw\"\n",
    "export PATH=$PATH:$HOME\"/bin\"\n",
    "alias ed=\"emacs -nw\"\n",
    "alias git_log='git log --all --oneline --decorate --graph'\n",
    "alias rm=\"rm -i\"\n",
    "%%"
   ]
  },
  {
   "cell_type": "markdown",
   "metadata": {},
   "source": [
    "Now, either _source_ your `.bash_aliases` file or stop and start the terminal or bash"
   ]
  },
  {
   "cell_type": "markdown",
   "metadata": {},
   "source": [
    "### Resources\n",
    "You can find numerous online tutorials and support resources on the internet, such as (search yourself for other and let us know what you find useful) [last updated: 01/2015]:\n",
    "* <http://linuxcommand.org/lc3_learning_the_shell.php>\n",
    "* <http://www.emacswiki.org/emacs/LearningEmacs>\n",
    "* <https://www.youtube.com/watch?v=hbzRWQjA6kI>\n",
    "* <https://www.youtube.com/watch?v=pYUGzgYAgEo>\n",
    "* <https://www.youtube.com/watch?v=3DA1grSp4mU>\n",
    "* you can do very advanced things, as shown, for example, in this [bash tutorial](http://www.funtoo.org/Bash_by_Example,_Part_1), [thanks for the suggestion](https://github.com/Hoverbear)\n",
    "\n",
    "These tutorials may differ in which shell and/or command line editor they us. Don't get confused by that."
   ]
  }
 ],
 "metadata": {
  "kernelspec": {
   "display_name": "Python 3",
   "language": "python",
   "name": "python3"
  },
  "language_info": {
   "codemirror_mode": {
    "name": "ipython",
    "version": 3
   },
   "file_extension": ".py",
   "mimetype": "text/x-python",
   "name": "python",
   "nbconvert_exporter": "python",
   "pygments_lexer": "ipython3",
   "version": "3.5.2"
  }
 },
 "nbformat": 4,
 "nbformat_minor": 2
}
