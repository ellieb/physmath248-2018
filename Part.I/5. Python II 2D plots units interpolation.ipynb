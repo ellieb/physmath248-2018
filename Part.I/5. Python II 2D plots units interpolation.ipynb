{
 "cells": [
  {
   "cell_type": "markdown",
   "metadata": {},
   "source": [
    "# Python intro II: 2D plots, basic interpolation, units"
   ]
  },
  {
   "cell_type": "markdown",
   "metadata": {},
   "source": [
    "## Python programming style\n",
    "\n",
    "The [PEP 8 -- Style Guide for Python Code](https://www.python.org/dev/peps/pep-0008) describes best practice in terms of programming style for python. \n"
   ]
  },
  {
   "cell_type": "markdown",
   "metadata": {},
   "source": [
    "## 2D plot\n",
    "We want to plot\n",
    "$$ z(x,y) = \\sin(x)\\cos(x) $$"
   ]
  },
  {
   "cell_type": "code",
   "execution_count": null,
   "metadata": {},
   "outputs": [],
   "source": [
    "%pylab nbagg"
   ]
  },
  {
   "cell_type": "code",
   "execution_count": null,
   "metadata": {},
   "outputs": [],
   "source": [
    "# experiment with x being a vector -> sin(x) vector\n",
    "n = 4\n",
    "x=linspace(-4.,4.,n)\n",
    "sin(x)"
   ]
  },
  {
   "cell_type": "code",
   "execution_count": null,
   "metadata": {},
   "outputs": [],
   "source": [
    "# can x be matrix?\n",
    "xy=array([[1,2],[0,1]])\n",
    "sin(xy)"
   ]
  },
  {
   "cell_type": "markdown",
   "metadata": {},
   "source": [
    "* how to build a 2D array out of x and y vectors that represent the x and y axis? [numpy.meshgrid](https://docs.scipy.org/doc/numpy/reference/generated/numpy.meshgrid.html)"
   ]
  },
  {
   "cell_type": "code",
   "execution_count": null,
   "metadata": {},
   "outputs": [],
   "source": [
    "n = 50\n",
    "x=linspace(-3.,5.,n)\n",
    "y=linspace(-4.,4.,n)\n",
    "#x"
   ]
  },
  {
   "cell_type": "code",
   "execution_count": null,
   "metadata": {},
   "outputs": [],
   "source": [
    "y"
   ]
  },
  {
   "cell_type": "code",
   "execution_count": null,
   "metadata": {},
   "outputs": [],
   "source": [
    "xv,yv = meshgrid(x,y)\n",
    "#yv"
   ]
  },
  {
   "cell_type": "code",
   "execution_count": null,
   "metadata": {},
   "outputs": [],
   "source": [
    "z=sin(xv)*cos(yv)\n",
    "#z"
   ]
  },
  {
   "cell_type": "markdown",
   "metadata": {},
   "source": [
    "### Image"
   ]
  },
  {
   "cell_type": "code",
   "execution_count": null,
   "metadata": {},
   "outputs": [],
   "source": [
    "ifig = 2; close(ifig); figure(ifig)\n",
    "imshow(z)"
   ]
  },
  {
   "cell_type": "markdown",
   "metadata": {},
   "source": [
    "`imshow` allows for a variety of interpolations, see [images example](http://matplotlib.org/examples/images_contours_and_fields/interpolation_methods.html):"
   ]
  },
  {
   "cell_type": "code",
   "execution_count": null,
   "metadata": {},
   "outputs": [],
   "source": [
    "#imshow?"
   ]
  },
  {
   "cell_type": "code",
   "execution_count": null,
   "metadata": {},
   "outputs": [],
   "source": [
    "ifig = 3; close(ifig); figure(ifig)\n",
    "imshow(z,interpolation='gaussian')"
   ]
  },
  {
   "cell_type": "markdown",
   "metadata": {},
   "source": [
    "### Surface plot"
   ]
  },
  {
   "cell_type": "code",
   "execution_count": null,
   "metadata": {},
   "outputs": [],
   "source": [
    "from mpl_toolkits.mplot3d import Axes3D\n",
    "import matplotlib.pyplot as plt\n",
    "from matplotlib import cm\n",
    "fig = plt.figure()\n",
    "ax = Axes3D(fig)\n",
    "ax.plot_surface(xv,yv,z, rstride=1, cstride=1, cmap=cm.viridis)\n",
    "plt.show()"
   ]
  },
  {
   "cell_type": "markdown",
   "metadata": {},
   "source": [
    "### Countour plot"
   ]
  },
  {
   "cell_type": "code",
   "execution_count": null,
   "metadata": {},
   "outputs": [],
   "source": [
    "CS = plt.contour(xv, yv, z)\n",
    "plt.clabel(CS, inline=1, fontsize=10)"
   ]
  },
  {
   "cell_type": "markdown",
   "metadata": {},
   "source": [
    "## Linear, cubic interpolation and spline interpolation\n",
    "\n",
    "As in [Part.I/3. Introduction to Python programming](https://github.com/UVic-CompPhys/physmath248-2018/blob/master/Part.I/3.%20Introduction%20to%20Python%20programming.ipynb) start by plotting a polynomial\n",
    "$$\n",
    "f(x) = ax^3 + bx^2 + cx + d\n",
    "$$\n"
   ]
  },
  {
   "cell_type": "code",
   "execution_count": null,
   "metadata": {},
   "outputs": [],
   "source": [
    "%pylab nbagg"
   ]
  },
  {
   "cell_type": "code",
   "execution_count": null,
   "metadata": {},
   "outputs": [],
   "source": [
    "a = -1.; b = 1.; c = 1.; d = 1.\n",
    "f = lambda x: a*x**3 + b*x**2 + c*x + d"
   ]
  },
  {
   "cell_type": "code",
   "execution_count": null,
   "metadata": {},
   "outputs": [],
   "source": [
    "n = 20\n",
    "x = linspace(-2.,2.,n)"
   ]
  },
  {
   "cell_type": "markdown",
   "metadata": {},
   "source": [
    "Noise the data:"
   ]
  },
  {
   "cell_type": "code",
   "execution_count": null,
   "metadata": {},
   "outputs": [],
   "source": [
    "# let's add some mock data\n",
    "y_eps=1.3; x_eps = 0. # x_eps must be small, or make data montonous\n",
    "                       # for spline\n",
    "d_err = y_eps*(rand(len(x))-0.5)\n",
    "y_noise = f(x)+d_err\n",
    "x_noise = x+x_eps*d_err"
   ]
  },
  {
   "cell_type": "code",
   "execution_count": null,
   "metadata": {},
   "outputs": [],
   "source": [
    "# plot\n",
    "plot(x,f(x),label='polynomial')\n",
    "plot(x+x_eps*d_err,f(x)+d_err,'ro',label='noisy polynomial')\n",
    "legend(loc=0)\n",
    "xlabel('x')\n",
    "ylabel('f(x)')"
   ]
  },
  {
   "cell_type": "code",
   "execution_count": null,
   "metadata": {},
   "outputs": [],
   "source": [
    "from scipy import interpolate\n",
    "f_int1=interpolate.interp1d(x_noise,y_noise,kind='linear')\n",
    "f_int2=interpolate.interp1d(x_noise,y_noise,kind='cubic')\n",
    "s=0.8\n",
    "f_spl = interpolate.splrep(x_noise,y_noise, s=s) # vary s, smoothness\n",
    "f_int3=interpolate.CubicSpline(x_noise,y_noise)"
   ]
  },
  {
   "cell_type": "code",
   "execution_count": null,
   "metadata": {},
   "outputs": [],
   "source": [
    "figure(2)\n",
    "xgrid=linspace(-1.95,1.95,500)\n",
    "plot(xgrid,f(xgrid),label='polynomial')\n",
    "plot(x,y_noise,'o',label='noisy data')\n",
    "#plot(xgrid,f_int1(xgrid),label='linear interpolation')\n",
    "plot(xgrid,f_int2(xgrid),label='cubic interpolation')\n",
    "plot(xgrid,f_int3(xgrid),label='cubic Spline')\n",
    "plot(xgrid,interpolate.splev(xgrid, f_spl, der=0),label='spline interp, s='+str(s))\n",
    "legend(loc=0)"
   ]
  },
  {
   "cell_type": "markdown",
   "metadata": {},
   "source": [
    "## Units and constants\n",
    "\n",
    "Physics is about numbers with units. We can draw units into our python work using - of course - appropriate packages. \n",
    "There are several packages now that provide unit support, including\n",
    "* [Astropy](http://docs.astropy.org/en/v0.2.1/units/index.html), also offers [constants](http://docs.astropy.org/en/stable/constants/)\n",
    "* [SymPy](http://docs.sympy.org/1.0/modules/physics/units.html)\n",
    "* [Pint](https://pint.readthedocs.io/en/latest)\n",
    "\n",
    "\n",
    "Here is an example:\n",
    "* calculate how long a $50\\mathrm{W}$ light bulb could shine with the energy that is consumed by destruction when a car going at $120\\mathrm{km/h}$ hits a rigid wall.\n",
    "* before solving this problem make a guess! you may be surprised"
   ]
  },
  {
   "cell_type": "markdown",
   "metadata": {},
   "source": [
    "### Using astropy"
   ]
  },
  {
   "cell_type": "code",
   "execution_count": null,
   "metadata": {},
   "outputs": [],
   "source": [
    "# import astropy unitis package and define variables\n",
    "import astropy.units as u\n",
    "m = 1300000 * u.g\n",
    "v = 120 *u.km/u.hr\n",
    "E = 0.5*m*v**2\n",
    "P = 50 * u.watt"
   ]
  },
  {
   "cell_type": "code",
   "execution_count": null,
   "metadata": {},
   "outputs": [],
   "source": [
    "# print energy in different units\n",
    "print (E.to('erg'))\n",
    "print (E)\n",
    "print (E.si)\n",
    "u.erg.find_equivalent_units()"
   ]
  },
  {
   "cell_type": "code",
   "execution_count": null,
   "metadata": {},
   "outputs": [],
   "source": [
    "# calculate time\n",
    "t = E / P\n",
    "print (t.si)\n",
    "print (t.to('hr'))"
   ]
  },
  {
   "cell_type": "markdown",
   "metadata": {},
   "source": [
    "**Constants:** `astropy` also provides constants:"
   ]
  },
  {
   "cell_type": "code",
   "execution_count": null,
   "metadata": {},
   "outputs": [],
   "source": [
    "from astropy import constants as const\n",
    "const.L_sun\n",
    "const.G"
   ]
  },
  {
   "cell_type": "markdown",
   "metadata": {},
   "source": [
    "### Using sympy"
   ]
  },
  {
   "cell_type": "code",
   "execution_count": null,
   "metadata": {},
   "outputs": [],
   "source": [
    "# import sympy unitis package and define variables\n",
    "import sympy.physics.units as u\n",
    "u.find_unit('power')"
   ]
  },
  {
   "cell_type": "code",
   "execution_count": null,
   "metadata": {},
   "outputs": [],
   "source": [
    "u.find_unit(u.power)"
   ]
  },
  {
   "cell_type": "code",
   "execution_count": null,
   "metadata": {},
   "outputs": [],
   "source": [
    "u.W"
   ]
  },
  {
   "cell_type": "code",
   "execution_count": null,
   "metadata": {},
   "outputs": [],
   "source": [
    "v = 5000*u.meter/u.second"
   ]
  },
  {
   "cell_type": "code",
   "execution_count": null,
   "metadata": {},
   "outputs": [],
   "source": [
    "km=1000*u.meters/ u.kilometer"
   ]
  },
  {
   "cell_type": "code",
   "execution_count": null,
   "metadata": {},
   "outputs": [],
   "source": [
    "v/km"
   ]
  },
  {
   "cell_type": "code",
   "execution_count": null,
   "metadata": {},
   "outputs": [],
   "source": [
    "ww = u.kilogram * u.meter**2 /u.second**3"
   ]
  },
  {
   "cell_type": "code",
   "execution_count": null,
   "metadata": {},
   "outputs": [],
   "source": [
    "\n",
    "m = 1300000 * u.g\n",
    "v = 120 *u.km/u.hour\n",
    "E = 0.5*m*v**2\n",
    "P = 50 * u.watt"
   ]
  },
  {
   "cell_type": "code",
   "execution_count": null,
   "metadata": {},
   "outputs": [],
   "source": [
    "# calculate time\n",
    "t = E / P\n",
    "print (t*(u.watt/ww) * (1000*u.meter/u.kilometer)**2 / (1000*u.gram/u.kilogram) /(3600*u.seconds/u.hour)**3)"
   ]
  },
  {
   "cell_type": "markdown",
   "metadata": {},
   "source": [
    "## 2D arrays"
   ]
  },
  {
   "cell_type": "code",
   "execution_count": null,
   "metadata": {},
   "outputs": [],
   "source": [
    "a=[array([n,n**2,n**3]) for n in range(15)]"
   ]
  },
  {
   "cell_type": "code",
   "execution_count": null,
   "metadata": {},
   "outputs": [],
   "source": [
    "a = array(a)"
   ]
  },
  {
   "cell_type": "code",
   "execution_count": null,
   "metadata": {},
   "outputs": [],
   "source": [
    "a\n",
    "a.T"
   ]
  },
  {
   "cell_type": "code",
   "execution_count": null,
   "metadata": {},
   "outputs": [],
   "source": [
    "figure(3)\n",
    "plot(a.T[0],a.T[1],'o')"
   ]
  },
  {
   "cell_type": "code",
   "execution_count": null,
   "metadata": {},
   "outputs": [],
   "source": [
    "x,y,z = a.T"
   ]
  },
  {
   "cell_type": "code",
   "execution_count": null,
   "metadata": {},
   "outputs": [],
   "source": [
    "plot(x,z,'og')"
   ]
  },
  {
   "cell_type": "code",
   "execution_count": null,
   "metadata": {},
   "outputs": [],
   "source": [
    "x"
   ]
  },
  {
   "cell_type": "code",
   "execution_count": null,
   "metadata": {},
   "outputs": [],
   "source": [
    "#last element\n",
    "x[-1]"
   ]
  },
  {
   "cell_type": "code",
   "execution_count": null,
   "metadata": {},
   "outputs": [],
   "source": [
    "# reverse order\n",
    "x[::-1]"
   ]
  },
  {
   "cell_type": "code",
   "execution_count": null,
   "metadata": {},
   "outputs": [],
   "source": [
    "# average\n",
    "average(linspace(5,15))"
   ]
  },
  {
   "cell_type": "code",
   "execution_count": null,
   "metadata": {},
   "outputs": [],
   "source": [
    "# cenered (moving) average\n",
    "average(x[5-1:5+1])"
   ]
  },
  {
   "cell_type": "markdown",
   "metadata": {},
   "source": [
    "## Integrate using a library\n",
    "\n",
    "Find the integral \n",
    "$$\n",
    "F(x) = \\int_{x'=0}^{x'=x} x'^2 dx'\n",
    "$$\n",
    "The analytical solution $F(10)$ is obviously "
   ]
  },
  {
   "cell_type": "code",
   "execution_count": null,
   "metadata": {},
   "outputs": [],
   "source": [
    "F_10 = (1./3)*10**3 \n",
    "print(F_10)"
   ]
  },
  {
   "cell_type": "code",
   "execution_count": null,
   "metadata": {},
   "outputs": [],
   "source": [
    "%pylab inline\n",
    "def func1(x):\n",
    "    return x**2\n",
    "x=linspace(0,10)\n",
    "y=func1(x)\n",
    "plot(x,y)"
   ]
  },
  {
   "cell_type": "code",
   "execution_count": null,
   "metadata": {},
   "outputs": [],
   "source": [
    "from scipy import integrate\n",
    "integrate.cumtrapz?"
   ]
  },
  {
   "cell_type": "code",
   "execution_count": null,
   "metadata": {},
   "outputs": [],
   "source": [
    "F=integrate.cumtrapz(y,x)\n",
    "print (len(x),len(F))"
   ]
  },
  {
   "cell_type": "code",
   "execution_count": null,
   "metadata": {},
   "outputs": [],
   "source": [
    "plot(x[1:],F)\n",
    "print (F[-1]*4.)"
   ]
  }
 ],
 "metadata": {
  "kernelspec": {
   "display_name": "Python 3",
   "language": "python",
   "name": "python3"
  },
  "language_info": {
   "codemirror_mode": {
    "name": "ipython",
    "version": 3
   },
   "file_extension": ".py",
   "mimetype": "text/x-python",
   "name": "python",
   "nbconvert_exporter": "python",
   "pygments_lexer": "ipython3",
   "version": "3.5.2"
  }
 },
 "nbformat": 4,
 "nbformat_minor": 2
}
